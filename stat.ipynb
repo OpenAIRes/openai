{
 "cells": [
  {
   "cell_type": "code",
   "execution_count": 38,
   "metadata": {},
   "outputs": [],
   "source": [
    "def stat(total1,success1,total2,success2):\n",
    "    failure1 = total1 - success1\n",
    "    failure2 = total2 - success2\n",
    "\n",
    "    # Kontingenční tabulka\n",
    "    observed = [[success1, failure1], [success2, failure2]]\n",
    "\n",
    "    # Chi-square test\n",
    "    chi2, p, dof, expected = stats.chi2_contingency(observed)\n",
    "\n",
    "    result = f\"Chi2 = {chi2}, p = {p}\"\n",
    "    print(result)\n",
    "    result = f\"{success1/total1*100:.1f}%, {success2/total2*100:.1f}%\"\n",
    "    print(result)\n",
    "    #print(observed)\n",
    "    pass"
   ]
  },
  {
   "cell_type": "code",
   "execution_count": 6,
   "metadata": {},
   "outputs": [],
   "source": [
    "import scipy.stats as stats"
   ]
  },
  {
   "cell_type": "code",
   "execution_count": 39,
   "metadata": {},
   "outputs": [
    {
     "name": "stdout",
     "output_type": "stream",
     "text": [
      "Chi2 = 0.0, p = 1.0\n",
      "82.1%, 81.8%\n"
     ]
    }
   ],
   "source": [
    "# Survival\n",
    "\n",
    "total1 = 56\n",
    "success1 = 46\n",
    "\n",
    "total2 = 88\n",
    "success2 = 72\n",
    "\n",
    "stat(total1,success1,total2,success2)"
   ]
  },
  {
   "cell_type": "code",
   "execution_count": 40,
   "metadata": {},
   "outputs": [
    {
     "name": "stdout",
     "output_type": "stream",
     "text": [
      "Chi2 = 0.1610999224826124, p = 0.6881458574902188\n",
      "82.6%, 77.8%\n"
     ]
    }
   ],
   "source": [
    "# Mated\n",
    "\n",
    "total1 = success1\n",
    "success1 = 38\n",
    "\n",
    "total2 = success2\n",
    "success2 = 56\n",
    "\n",
    "stat(total1,success1,total2,success2)"
   ]
  },
  {
   "cell_type": "code",
   "execution_count": 41,
   "metadata": {},
   "outputs": [
    {
     "name": "stdout",
     "output_type": "stream",
     "text": [
      "Chi2 = 0.0413383056571911, p = 0.8388863018420958\n",
      "84.2%, 80.4%\n"
     ]
    }
   ],
   "source": [
    "# Brood\n",
    "\n",
    "total1 = success1\n",
    "success1 = 32\n",
    "\n",
    "total2 = success2\n",
    "success2 = 45\n",
    "\n",
    "stat(total1,success1,total2,success2)"
   ]
  },
  {
   "cell_type": "code",
   "execution_count": 42,
   "metadata": {},
   "outputs": [
    {
     "name": "stdout",
     "output_type": "stream",
     "text": [
      "Chi2 = 1.3649341724537032, p = 0.24268417350274163\n",
      "46.9%, 31.1%\n"
     ]
    }
   ],
   "source": [
    "# New Queens\n",
    "\n",
    "total1 = success1\n",
    "success1 = 15\n",
    "\n",
    "total2 = success2\n",
    "success2 = 14\n",
    "\n",
    "stat(total1,success1,total2,success2)"
   ]
  }
 ],
 "metadata": {
  "kernelspec": {
   "display_name": "base",
   "language": "python",
   "name": "python3"
  },
  "language_info": {
   "codemirror_mode": {
    "name": "ipython",
    "version": 3
   },
   "file_extension": ".py",
   "mimetype": "text/x-python",
   "name": "python",
   "nbconvert_exporter": "python",
   "pygments_lexer": "ipython3",
   "version": "3.12.4"
  }
 },
 "nbformat": 4,
 "nbformat_minor": 2
}
