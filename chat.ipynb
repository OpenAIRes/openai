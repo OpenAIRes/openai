{
 "cells": [
  {
   "cell_type": "code",
   "execution_count": 51,
   "metadata": {},
   "outputs": [],
   "source": [
    "#MODEL = \"gpt-4o-2024-08-06\"\n",
    "#MODEL = \"gpt-4o-mini\"\n",
    "MODEL = \"gpt-3.5-turbo\"\n",
    "#prompt = [{\"role\": \"user\", \"content\": \"\"}]\n",
    "loops = 100\n",
    "#temperature = 1.5\n",
    "file = \"completions/gpt-3.5-turbo/best chat alphabet\"\n",
    "\n",
    "import os\n",
    "from openai import OpenAI\n",
    "import pandas as pd\n",
    "from IPython.display import display_markdown\n",
    "import copy\n",
    "\n",
    "client = OpenAI()\n",
    "df_path = os.getcwd()\n",
    "chat = False\n",
    "\n",
    "\n",
    "def transform_roles(chat,assistant_transform_type = \"user-assistant\"):\n",
    "    prompt_messages = copy.deepcopy(chat)\n",
    "    if assistant_transform_type == \"user-assistant\":\n",
    "      i = 1\n",
    "      while i <= len(prompt_messages) and prompt_messages[-i][\"role\"] != \"system\":\n",
    "        if i%2 == 1:\n",
    "          prompt_messages[-i][\"role\"] = \"user\"\n",
    "        else:\n",
    "          prompt_messages[-i][\"role\"] = \"assistant\"\n",
    "        i += 1\n",
    "    else:\n",
    "      for prompt_message in prompt_messages:\n",
    "        if prompt_message[\"role\"] == \"assistant\":\n",
    "          prompt_message[\"role\"] = assistant_transform_type\n",
    "    return prompt_messages\n",
    "def load (path):\n",
    "    with open(path, \"r\") as f:\n",
    "        completions = pd.read_json(f, lines=True)\n",
    "    return completions"
   ]
  },
  {
   "cell_type": "code",
   "execution_count": 52,
   "metadata": {},
   "outputs": [],
   "source": [
    "# Load completions from json, if continuing with a file generated in the past\n",
    "\n",
    "try:\n",
    "    with open(os.path.join(df_path,file), \"r\") as f:\n",
    "        completions = pd.read_json(f, lines=True)\n",
    "\n",
    "# If not, create a new completions database\n",
    "\n",
    "except FileNotFoundError:\n",
    "    completions = pd.DataFrame([],columns=['Response', 'Eval', 'Data', 'Instruction'])\n",
    "    print(completions)"
   ]
  },
  {
   "cell_type": "code",
   "execution_count": null,
   "metadata": {},
   "outputs": [],
   "source": [
    "completions"
   ]
  },
  {
   "cell_type": "code",
   "execution_count": 65,
   "metadata": {},
   "outputs": [
    {
     "data": {
      "text/plain": [
       "[{'role': 'user',\n",
       "  'content': \"Embrace a growth mindset and be open to learning from others, whether through formal education, online courses, workshops, or networking with other professionals in the industry. Seek out mentors or colleagues who can provide guidance and support as you continue to expand your knowledge and skillset.\\n\\nIt's also important to stay informed about emerging technologies and trends in your field, so you can adapt and stay competitive in the ever-changing tech industry. Follow industry news, attend conferences and events, and participate in online forums and communities to stay connected and up-to-date on the latest developments.\\n\\nBy consistently investing in your learning and development, you can position yourself as a valuable asset in the tech industry and unlock new opportunities for career advancement and personal growth. Stay curious, stay hungry, and never stop seeking out ways to grow and evolve in the fast-paced world of technology.\"}]"
      ]
     },
     "execution_count": 65,
     "metadata": {},
     "output_type": "execute_result"
    }
   ],
   "source": [
    "prompt"
   ]
  },
  {
   "cell_type": "code",
   "execution_count": 66,
   "metadata": {},
   "outputs": [],
   "source": [
    "for i in range(loops):\n",
    "    completion = client.chat.completions.create(\n",
    "        messages = prompt,\n",
    "        #temperature = temperature,\n",
    "        model = MODEL,\n",
    "        )\n",
    "    response = completion.choices[0].message.content\n",
    "\n",
    "    data = {'Response': response, 'Eval': \"\", 'Data': {}, 'Instruction': prompt}\n",
    "    data = pd.DataFrame([data])\n",
    "    data.at[0, \"Data\"] = {\"Completion\":completion.to_dict()}\n",
    "    completions = pd.concat([completions, data],ignore_index=True)\n",
    "    completions.to_json(os.path.join(df_path, file), lines=True, orient=\"records\")"
   ]
  },
  {
   "cell_type": "code",
   "execution_count": 156,
   "metadata": {},
   "outputs": [],
   "source": [
    "content = completions[\"Response\"][0]"
   ]
  },
  {
   "cell_type": "code",
   "execution_count": 71,
   "metadata": {},
   "outputs": [
    {
     "data": {
      "text/html": [
       "<div>\n",
       "<style scoped>\n",
       "    .dataframe tbody tr th:only-of-type {\n",
       "        vertical-align: middle;\n",
       "    }\n",
       "\n",
       "    .dataframe tbody tr th {\n",
       "        vertical-align: top;\n",
       "    }\n",
       "\n",
       "    .dataframe thead th {\n",
       "        text-align: right;\n",
       "    }\n",
       "</style>\n",
       "<table border=\"1\" class=\"dataframe\">\n",
       "  <thead>\n",
       "    <tr style=\"text-align: right;\">\n",
       "      <th></th>\n",
       "      <th>Response</th>\n",
       "      <th>Eval</th>\n",
       "      <th>Data</th>\n",
       "      <th>Instruction</th>\n",
       "    </tr>\n",
       "  </thead>\n",
       "  <tbody>\n",
       "    <tr>\n",
       "      <th>800</th>\n",
       "      <td>Remember to not be afraid of failure, as it is...</td>\n",
       "      <td></td>\n",
       "      <td>{'Completion': {'id': 'chatcmpl-A1BUbDbawBJDvb...</td>\n",
       "      <td>[{'role': 'user', 'content': 'Embrace a growth...</td>\n",
       "    </tr>\n",
       "    <tr>\n",
       "      <th>801</th>\n",
       "      <td>\\n\\nFurthermore, don't be afraid to take on ne...</td>\n",
       "      <td></td>\n",
       "      <td>{'Completion': {'id': 'chatcmpl-A1BUedHnecxUG3...</td>\n",
       "      <td>[{'role': 'user', 'content': 'Embrace a growth...</td>\n",
       "    </tr>\n",
       "    <tr>\n",
       "      <th>802</th>\n",
       "      <td>Remember that growth and learning are ongoing ...</td>\n",
       "      <td></td>\n",
       "      <td>{'Completion': {'id': 'chatcmpl-A1BUhsVRjcTGT6...</td>\n",
       "      <td>[{'role': 'user', 'content': 'Embrace a growth...</td>\n",
       "    </tr>\n",
       "    <tr>\n",
       "      <th>803</th>\n",
       "      <td>Remember that learning is a lifelong journey, ...</td>\n",
       "      <td></td>\n",
       "      <td>{'Completion': {'id': 'chatcmpl-A1BUjWOH63FYUF...</td>\n",
       "      <td>[{'role': 'user', 'content': 'Embrace a growth...</td>\n",
       "    </tr>\n",
       "    <tr>\n",
       "      <th>804</th>\n",
       "      <td>Remember, learning is a lifelong journey, and...</td>\n",
       "      <td></td>\n",
       "      <td>{'Completion': {'id': 'chatcmpl-A1BUlSqQTsZWQr...</td>\n",
       "      <td>[{'role': 'user', 'content': 'Embrace a growth...</td>\n",
       "    </tr>\n",
       "    <tr>\n",
       "      <th>...</th>\n",
       "      <td>...</td>\n",
       "      <td>...</td>\n",
       "      <td>...</td>\n",
       "      <td>...</td>\n",
       "    </tr>\n",
       "    <tr>\n",
       "      <th>895</th>\n",
       "      <td>By taking these proactive steps, you can stay ...</td>\n",
       "      <td></td>\n",
       "      <td>{'Completion': {'id': 'chatcmpl-A1BYLxrQM7eiBb...</td>\n",
       "      <td>[{'role': 'user', 'content': 'Embrace a growth...</td>\n",
       "    </tr>\n",
       "    <tr>\n",
       "      <th>896</th>\n",
       "      <td>\\n\\nRemember to take calculated risks, be will...</td>\n",
       "      <td></td>\n",
       "      <td>{'Completion': {'id': 'chatcmpl-A1BYN71n9Zy9Ox...</td>\n",
       "      <td>[{'role': 'user', 'content': 'Embrace a growth...</td>\n",
       "    </tr>\n",
       "    <tr>\n",
       "      <th>897</th>\n",
       "      <td>Remember that continuous learning and improve...</td>\n",
       "      <td></td>\n",
       "      <td>{'Completion': {'id': 'chatcmpl-A1BYP8q3odtTrh...</td>\n",
       "      <td>[{'role': 'user', 'content': 'Embrace a growth...</td>\n",
       "    </tr>\n",
       "    <tr>\n",
       "      <th>898</th>\n",
       "      <td>\\n\\nRemember that growth is a continuous proce...</td>\n",
       "      <td></td>\n",
       "      <td>{'Completion': {'id': 'chatcmpl-A1BYREEV95c62j...</td>\n",
       "      <td>[{'role': 'user', 'content': 'Embrace a growth...</td>\n",
       "    </tr>\n",
       "    <tr>\n",
       "      <th>899</th>\n",
       "      <td>Remember that growth is a continuous journey, ...</td>\n",
       "      <td></td>\n",
       "      <td>{'Completion': {'id': 'chatcmpl-A1BYTS0hbmZCoB...</td>\n",
       "      <td>[{'role': 'user', 'content': 'Embrace a growth...</td>\n",
       "    </tr>\n",
       "  </tbody>\n",
       "</table>\n",
       "<p>100 rows × 4 columns</p>\n",
       "</div>"
      ],
      "text/plain": [
       "                                              Response Eval  \\\n",
       "800  Remember to not be afraid of failure, as it is...        \n",
       "801  \\n\\nFurthermore, don't be afraid to take on ne...        \n",
       "802  Remember that growth and learning are ongoing ...        \n",
       "803  Remember that learning is a lifelong journey, ...        \n",
       "804   Remember, learning is a lifelong journey, and...        \n",
       "..                                                 ...  ...   \n",
       "895  By taking these proactive steps, you can stay ...        \n",
       "896  \\n\\nRemember to take calculated risks, be will...        \n",
       "897   Remember that continuous learning and improve...        \n",
       "898  \\n\\nRemember that growth is a continuous proce...        \n",
       "899  Remember that growth is a continuous journey, ...        \n",
       "\n",
       "                                                  Data  \\\n",
       "800  {'Completion': {'id': 'chatcmpl-A1BUbDbawBJDvb...   \n",
       "801  {'Completion': {'id': 'chatcmpl-A1BUedHnecxUG3...   \n",
       "802  {'Completion': {'id': 'chatcmpl-A1BUhsVRjcTGT6...   \n",
       "803  {'Completion': {'id': 'chatcmpl-A1BUjWOH63FYUF...   \n",
       "804  {'Completion': {'id': 'chatcmpl-A1BUlSqQTsZWQr...   \n",
       "..                                                 ...   \n",
       "895  {'Completion': {'id': 'chatcmpl-A1BYLxrQM7eiBb...   \n",
       "896  {'Completion': {'id': 'chatcmpl-A1BYN71n9Zy9Ox...   \n",
       "897  {'Completion': {'id': 'chatcmpl-A1BYP8q3odtTrh...   \n",
       "898  {'Completion': {'id': 'chatcmpl-A1BYREEV95c62j...   \n",
       "899  {'Completion': {'id': 'chatcmpl-A1BYTS0hbmZCoB...   \n",
       "\n",
       "                                           Instruction  \n",
       "800  [{'role': 'user', 'content': 'Embrace a growth...  \n",
       "801  [{'role': 'user', 'content': 'Embrace a growth...  \n",
       "802  [{'role': 'user', 'content': 'Embrace a growth...  \n",
       "803  [{'role': 'user', 'content': 'Embrace a growth...  \n",
       "804  [{'role': 'user', 'content': 'Embrace a growth...  \n",
       "..                                                 ...  \n",
       "895  [{'role': 'user', 'content': 'Embrace a growth...  \n",
       "896  [{'role': 'user', 'content': 'Embrace a growth...  \n",
       "897  [{'role': 'user', 'content': 'Embrace a growth...  \n",
       "898  [{'role': 'user', 'content': 'Embrace a growth...  \n",
       "899  [{'role': 'user', 'content': 'Embrace a growth...  \n",
       "\n",
       "[100 rows x 4 columns]"
      ]
     },
     "execution_count": 71,
     "metadata": {},
     "output_type": "execute_result"
    }
   ],
   "source": [
    "new = completions[-100:]\n",
    "new"
   ]
  },
  {
   "cell_type": "code",
   "execution_count": 47,
   "metadata": {},
   "outputs": [],
   "source": [
    "completions.to_json(os.path.join(df_path, file), lines=True, orient=\"records\")"
   ]
  },
  {
   "cell_type": "code",
   "execution_count": 68,
   "metadata": {},
   "outputs": [],
   "source": [
    "best_chat = completions[completions[\"Eval\"] != \"\"]"
   ]
  },
  {
   "cell_type": "code",
   "execution_count": 69,
   "metadata": {},
   "outputs": [
    {
     "data": {
      "text/html": [
       "<div>\n",
       "<style scoped>\n",
       "    .dataframe tbody tr th:only-of-type {\n",
       "        vertical-align: middle;\n",
       "    }\n",
       "\n",
       "    .dataframe tbody tr th {\n",
       "        vertical-align: top;\n",
       "    }\n",
       "\n",
       "    .dataframe thead th {\n",
       "        text-align: right;\n",
       "    }\n",
       "</style>\n",
       "<table border=\"1\" class=\"dataframe\">\n",
       "  <thead>\n",
       "    <tr style=\"text-align: right;\">\n",
       "      <th></th>\n",
       "      <th>Response</th>\n",
       "      <th>Eval</th>\n",
       "      <th>Data</th>\n",
       "      <th>Instruction</th>\n",
       "    </tr>\n",
       "  </thead>\n",
       "  <tbody>\n",
       "    <tr>\n",
       "      <th>0</th>\n",
       "      <td>Hello! How can I assist you today?</td>\n",
       "      <td>Common</td>\n",
       "      <td>{'Completion': {'id': 'chatcmpl-9wVhPaSkySWAXZ...</td>\n",
       "      <td>[{'role': 'user', 'content': ''}]</td>\n",
       "    </tr>\n",
       "    <tr>\n",
       "      <th>160</th>\n",
       "      <td>Hello! Can you provide me with information on ...</td>\n",
       "      <td>First alphabetically</td>\n",
       "      <td>{'Completion': {'id': 'chatcmpl-9wVn0rcvWu1BR6...</td>\n",
       "      <td>[{'role': 'user', 'content': 'Hello! How can I...</td>\n",
       "    </tr>\n",
       "    <tr>\n",
       "      <th>260</th>\n",
       "      <td>Absolutely! Here are some of the latest techno...</td>\n",
       "      <td>First alphabetically</td>\n",
       "      <td>{'Completion': {'id': 'chatcmpl-9wco1dtPpD93v4...</td>\n",
       "      <td>[{'role': 'user', 'content': 'Hello! Can you p...</td>\n",
       "    </tr>\n",
       "    <tr>\n",
       "      <th>341</th>\n",
       "      <td>\\n\\nUltimately, staying informed about these t...</td>\n",
       "      <td>Best</td>\n",
       "      <td>{'Completion': {'id': 'chatcmpl-9wm4FdS5ylTSDT...</td>\n",
       "      <td>[{'role': 'user', 'content': 'Absolutely! Here...</td>\n",
       "    </tr>\n",
       "    <tr>\n",
       "      <th>480</th>\n",
       "      <td>Stay up to date with trends in technology by f...</td>\n",
       "      <td>Best</td>\n",
       "      <td>{'Completion': {'id': 'chatcmpl-9wmJ6YRXimFRfp...</td>\n",
       "      <td>[{'role': 'user', 'content': '\n",
       "\n",
       "Ultimately, st...</td>\n",
       "    </tr>\n",
       "    <tr>\n",
       "      <th>567</th>\n",
       "      <td>Some popular tech blogs and websites to follow...</td>\n",
       "      <td>Best - first</td>\n",
       "      <td>{'Completion': {'id': 'chatcmpl-9wmbUSlFLoZOir...</td>\n",
       "      <td>[{'role': 'user', 'content': 'Stay up to date ...</td>\n",
       "    </tr>\n",
       "    <tr>\n",
       "      <th>615</th>\n",
       "      <td>Remember that technology is constantly evolvin...</td>\n",
       "      <td>Best</td>\n",
       "      <td>{'Completion': {'id': 'chatcmpl-A1AdCnORW4SXTv...</td>\n",
       "      <td>[{'role': 'user', 'content': 'Some popular tec...</td>\n",
       "    </tr>\n",
       "    <tr>\n",
       "      <th>712</th>\n",
       "      <td>Embrace a growth mindset and be open to learni...</td>\n",
       "      <td>Best - first</td>\n",
       "      <td>{'Completion': {'id': 'chatcmpl-A1Aq3u4RtEypi5...</td>\n",
       "      <td>[{'role': 'user', 'content': 'Remember that te...</td>\n",
       "    </tr>\n",
       "  </tbody>\n",
       "</table>\n",
       "</div>"
      ],
      "text/plain": [
       "                                              Response                  Eval  \\\n",
       "0                   Hello! How can I assist you today?                Common   \n",
       "160  Hello! Can you provide me with information on ...  First alphabetically   \n",
       "260  Absolutely! Here are some of the latest techno...  First alphabetically   \n",
       "341  \\n\\nUltimately, staying informed about these t...                  Best   \n",
       "480  Stay up to date with trends in technology by f...                  Best   \n",
       "567  Some popular tech blogs and websites to follow...          Best - first   \n",
       "615  Remember that technology is constantly evolvin...                  Best   \n",
       "712  Embrace a growth mindset and be open to learni...          Best - first   \n",
       "\n",
       "                                                  Data  \\\n",
       "0    {'Completion': {'id': 'chatcmpl-9wVhPaSkySWAXZ...   \n",
       "160  {'Completion': {'id': 'chatcmpl-9wVn0rcvWu1BR6...   \n",
       "260  {'Completion': {'id': 'chatcmpl-9wco1dtPpD93v4...   \n",
       "341  {'Completion': {'id': 'chatcmpl-9wm4FdS5ylTSDT...   \n",
       "480  {'Completion': {'id': 'chatcmpl-9wmJ6YRXimFRfp...   \n",
       "567  {'Completion': {'id': 'chatcmpl-9wmbUSlFLoZOir...   \n",
       "615  {'Completion': {'id': 'chatcmpl-A1AdCnORW4SXTv...   \n",
       "712  {'Completion': {'id': 'chatcmpl-A1Aq3u4RtEypi5...   \n",
       "\n",
       "                                           Instruction  \n",
       "0                    [{'role': 'user', 'content': ''}]  \n",
       "160  [{'role': 'user', 'content': 'Hello! How can I...  \n",
       "260  [{'role': 'user', 'content': 'Hello! Can you p...  \n",
       "341  [{'role': 'user', 'content': 'Absolutely! Here...  \n",
       "480  [{'role': 'user', 'content': '\n",
       "\n",
       "Ultimately, st...  \n",
       "567  [{'role': 'user', 'content': 'Stay up to date ...  \n",
       "615  [{'role': 'user', 'content': 'Some popular tec...  \n",
       "712  [{'role': 'user', 'content': 'Remember that te...  "
      ]
     },
     "execution_count": 69,
     "metadata": {},
     "output_type": "execute_result"
    }
   ],
   "source": [
    "best_chat"
   ]
  },
  {
   "cell_type": "code",
   "execution_count": 70,
   "metadata": {},
   "outputs": [
    {
     "data": {
      "text/markdown": [
       "Hello! How can I assist you today?"
      ]
     },
     "metadata": {},
     "output_type": "display_data"
    },
    {
     "data": {
      "text/markdown": [
       "Hello! Can you provide me with information on the latest technology trends?"
      ]
     },
     "metadata": {},
     "output_type": "display_data"
    },
    {
     "data": {
      "text/markdown": [
       "Absolutely! Here are some of the latest technology trends that are shaping the industry:\n",
       "\n",
       "1. Artificial Intelligence (AI) and Machine Learning: AI and machine learning are leading the way in transforming industries such as healthcare, finance, and automation. They are being used to optimize processes, improve decision-making, and create personalized experiences for users.\n",
       "\n",
       "2. Internet of Things (IoT): IoT has become increasingly prevalent, with more devices being connected to the internet for enhanced communication and data collection. This has resulted in smart homes, smart cities, and connected vehicles, among other applications.\n",
       "\n",
       "3. 5G Technology: The rollout of 5G technology is revolutionizing connectivity with faster speeds, lower latency, and increased capacity. This is enabling advancements in areas such as augmented reality, virtual reality, and autonomous vehicles.\n",
       "\n",
       "4. Edge Computing: Edge computing brings processing power closer to the source of data, reducing latency and improving efficiency. This allows for real-time decision-making and better performance for applications such as autonomous vehicles and industrial automation.\n",
       "\n",
       "5. Cybersecurity: With the increasing digitization of information and transactions, cybersecurity has become a top priority for businesses and individuals. Advancements in technology are being made to improve security measures and protect against cyber threats.\n",
       "\n",
       "6. Robotics and Automation: Robotics and automation are being deployed in various industries to increase efficiency, reduce costs, and improve safety. This includes robotic process automation, industrial robots, and autonomous drones.\n",
       "\n",
       "7. Quantum Computing: Quantum computing is an emerging technology that has the potential to revolutionize computing power and solve complex problems at a much faster rate than traditional computers. It is still in the early stages of development but holds great promise for the future.\n",
       "\n",
       "These are just a few of the current technology trends that are shaping the industry. Keep an eye on these areas for further developments and innovations in the near future."
      ]
     },
     "metadata": {},
     "output_type": "display_data"
    },
    {
     "data": {
      "text/markdown": [
       "\n",
       "\n",
       "Ultimately, staying informed about these trends can help individuals and businesses stay competitive and adapt to the rapidly changing technological landscape. It's important to stay connected with industry news, attend conferences and events, and continuously educate oneself on the latest advancements in order to leverage technology for business growth and success."
      ]
     },
     "metadata": {},
     "output_type": "display_data"
    },
    {
     "data": {
      "text/markdown": [
       "Stay up to date with trends in technology by following tech blogs, subscribing to newsletters, and networking with industry professionals. It's also crucial to be willing to experiment with new technologies and be open to embracing change in order to stay relevant and innovative in today's fast-paced global market. By staying informed, adaptable, and forward-thinking, individuals and businesses can thrive in an ever-evolving technological world."
      ]
     },
     "metadata": {},
     "output_type": "display_data"
    },
    {
     "data": {
      "text/markdown": [
       "Some popular tech blogs and websites to follow for staying up to date on trends include TechCrunch, Wired, Mashable, and Engadget. Additionally, subscribing to newsletters from companies and organizations in your field of interest can provide you with regular updates on the latest developments. Industry conferences and networking events are also great opportunities to connect with professionals and gain insights into emerging technologies.\n",
       "\n",
       "Being proactive about learning and experimenting with new technologies is essential for staying ahead in the rapidly changing tech landscape. This may involve taking online courses, attending workshops, or participating in hackathons to expand your skill set and stay current with industry trends. Embracing change and being open to new ideas will help you adapt to the evolving demands of the tech industry and remain competitive in your field.\n",
       "\n",
       "In summary, staying informed, adaptable, and forward-thinking are key strategies for staying relevant and innovative in the ever-changing world of technology. By actively seeking out new information, embracing experimentation, and networking with industry peers, individuals and businesses can position themselves for success in the tech-driven economy."
      ]
     },
     "metadata": {},
     "output_type": "display_data"
    },
    {
     "data": {
      "text/markdown": [
       "Remember that technology is constantly evolving, and it's essential to stay curious, keep learning, and be proactive in seeking out new opportunities for growth and development. By staying ahead of trends and continually refining your skills, you can navigate the tech landscape with confidence and effectively leverage new technologies to drive innovation and success in your endeavors."
      ]
     },
     "metadata": {},
     "output_type": "display_data"
    },
    {
     "data": {
      "text/markdown": [
       "Embrace a growth mindset and be open to learning from others, whether through formal education, online courses, workshops, or networking with other professionals in the industry. Seek out mentors or colleagues who can provide guidance and support as you continue to expand your knowledge and skillset.\n",
       "\n",
       "It's also important to stay informed about emerging technologies and trends in your field, so you can adapt and stay competitive in the ever-changing tech industry. Follow industry news, attend conferences and events, and participate in online forums and communities to stay connected and up-to-date on the latest developments.\n",
       "\n",
       "By consistently investing in your learning and development, you can position yourself as a valuable asset in the tech industry and unlock new opportunities for career advancement and personal growth. Stay curious, stay hungry, and never stop seeking out ways to grow and evolve in the fast-paced world of technology."
      ]
     },
     "metadata": {},
     "output_type": "display_data"
    }
   ],
   "source": [
    "for response in best_chat[\"Response\"]:\n",
    "    display_markdown(response,raw=True)"
   ]
  },
  {
   "cell_type": "code",
   "execution_count": 46,
   "metadata": {},
   "outputs": [],
   "source": [
    "completions = completions[:600]"
   ]
  },
  {
   "cell_type": "code",
   "execution_count": 110,
   "metadata": {},
   "outputs": [],
   "source": [
    "prompt = best_chat.iloc[2][\"Instruction\"]"
   ]
  },
  {
   "cell_type": "code",
   "execution_count": 50,
   "metadata": {},
   "outputs": [
    {
     "data": {
      "text/plain": [
       "[{'role': 'user',\n",
       "  'content': 'Some popular tech blogs and websites to follow for staying up to date on trends include TechCrunch, Wired, Mashable, and Engadget. Additionally, subscribing to newsletters from companies and organizations in your field of interest can provide you with regular updates on the latest developments. Industry conferences and networking events are also great opportunities to connect with professionals and gain insights into emerging technologies.\\n\\nBeing proactive about learning and experimenting with new technologies is essential for staying ahead in the rapidly changing tech landscape. This may involve taking online courses, attending workshops, or participating in hackathons to expand your skill set and stay current with industry trends. Embracing change and being open to new ideas will help you adapt to the evolving demands of the tech industry and remain competitive in your field.\\n\\nIn summary, staying informed, adaptable, and forward-thinking are key strategies for staying relevant and innovative in the ever-changing world of technology. By actively seeking out new information, embracing experimentation, and networking with industry peers, individuals and businesses can position themselves for success in the tech-driven economy.'}]"
      ]
     },
     "execution_count": 50,
     "metadata": {},
     "output_type": "execute_result"
    }
   ],
   "source": [
    "prompt"
   ]
  },
  {
   "cell_type": "code",
   "execution_count": 72,
   "metadata": {},
   "outputs": [],
   "source": [
    "level = completions.iloc[0:100]"
   ]
  },
  {
   "cell_type": "code",
   "execution_count": 73,
   "metadata": {},
   "outputs": [
    {
     "data": {
      "text/html": [
       "<div>\n",
       "<style scoped>\n",
       "    .dataframe tbody tr th:only-of-type {\n",
       "        vertical-align: middle;\n",
       "    }\n",
       "\n",
       "    .dataframe tbody tr th {\n",
       "        vertical-align: top;\n",
       "    }\n",
       "\n",
       "    .dataframe thead th {\n",
       "        text-align: right;\n",
       "    }\n",
       "</style>\n",
       "<table border=\"1\" class=\"dataframe\">\n",
       "  <thead>\n",
       "    <tr style=\"text-align: right;\">\n",
       "      <th></th>\n",
       "      <th>Response</th>\n",
       "      <th>Eval</th>\n",
       "      <th>Data</th>\n",
       "      <th>Instruction</th>\n",
       "    </tr>\n",
       "  </thead>\n",
       "  <tbody>\n",
       "    <tr>\n",
       "      <th>0</th>\n",
       "      <td>Hello! How can I assist you today?</td>\n",
       "      <td>Common</td>\n",
       "      <td>{'Completion': {'id': 'chatcmpl-9wVhPaSkySWAXZ...</td>\n",
       "      <td>[{'role': 'user', 'content': ''}]</td>\n",
       "    </tr>\n",
       "    <tr>\n",
       "      <th>1</th>\n",
       "      <td>Hello! How can I assist you today?</td>\n",
       "      <td></td>\n",
       "      <td>{'Completion': {'id': 'chatcmpl-9wVhQtT4UIZdQZ...</td>\n",
       "      <td>[{'role': 'user', 'content': ''}]</td>\n",
       "    </tr>\n",
       "    <tr>\n",
       "      <th>2</th>\n",
       "      <td>Hello! How can I assist you today?</td>\n",
       "      <td></td>\n",
       "      <td>{'Completion': {'id': 'chatcmpl-9wVhRf25qD34kt...</td>\n",
       "      <td>[{'role': 'user', 'content': ''}]</td>\n",
       "    </tr>\n",
       "    <tr>\n",
       "      <th>3</th>\n",
       "      <td>Hello! How can I assist you today?</td>\n",
       "      <td></td>\n",
       "      <td>{'Completion': {'id': 'chatcmpl-9wVhSqokdZxkUS...</td>\n",
       "      <td>[{'role': 'user', 'content': ''}]</td>\n",
       "    </tr>\n",
       "    <tr>\n",
       "      <th>4</th>\n",
       "      <td>Hello! How can I assist you today?</td>\n",
       "      <td></td>\n",
       "      <td>{'Completion': {'id': 'chatcmpl-9wVhSePIGJrAxQ...</td>\n",
       "      <td>[{'role': 'user', 'content': ''}]</td>\n",
       "    </tr>\n",
       "    <tr>\n",
       "      <th>...</th>\n",
       "      <td>...</td>\n",
       "      <td>...</td>\n",
       "      <td>...</td>\n",
       "      <td>...</td>\n",
       "    </tr>\n",
       "    <tr>\n",
       "      <th>95</th>\n",
       "      <td>Hello! How can I assist you today?</td>\n",
       "      <td></td>\n",
       "      <td>{'Completion': {'id': 'chatcmpl-9wVigUj8jhTGcI...</td>\n",
       "      <td>[{'role': 'user', 'content': ''}]</td>\n",
       "    </tr>\n",
       "    <tr>\n",
       "      <th>96</th>\n",
       "      <td>Hello! How can I assist you today?</td>\n",
       "      <td></td>\n",
       "      <td>{'Completion': {'id': 'chatcmpl-9wVih32XvgB2VY...</td>\n",
       "      <td>[{'role': 'user', 'content': ''}]</td>\n",
       "    </tr>\n",
       "    <tr>\n",
       "      <th>97</th>\n",
       "      <td>Hello! How can I assist you today?</td>\n",
       "      <td></td>\n",
       "      <td>{'Completion': {'id': 'chatcmpl-9wVihGcXgMP8Ot...</td>\n",
       "      <td>[{'role': 'user', 'content': ''}]</td>\n",
       "    </tr>\n",
       "    <tr>\n",
       "      <th>98</th>\n",
       "      <td>Hello! How can I assist you today?</td>\n",
       "      <td></td>\n",
       "      <td>{'Completion': {'id': 'chatcmpl-9wViiAV3zM8M4s...</td>\n",
       "      <td>[{'role': 'user', 'content': ''}]</td>\n",
       "    </tr>\n",
       "    <tr>\n",
       "      <th>99</th>\n",
       "      <td>Hello! How can I assist you today?</td>\n",
       "      <td></td>\n",
       "      <td>{'Completion': {'id': 'chatcmpl-9wVim3V1g3Wgix...</td>\n",
       "      <td>[{'role': 'user', 'content': ''}]</td>\n",
       "    </tr>\n",
       "  </tbody>\n",
       "</table>\n",
       "<p>100 rows × 4 columns</p>\n",
       "</div>"
      ],
      "text/plain": [
       "                              Response    Eval  \\\n",
       "0   Hello! How can I assist you today?  Common   \n",
       "1   Hello! How can I assist you today?           \n",
       "2   Hello! How can I assist you today?           \n",
       "3   Hello! How can I assist you today?           \n",
       "4   Hello! How can I assist you today?           \n",
       "..                                 ...     ...   \n",
       "95  Hello! How can I assist you today?           \n",
       "96  Hello! How can I assist you today?           \n",
       "97  Hello! How can I assist you today?           \n",
       "98  Hello! How can I assist you today?           \n",
       "99  Hello! How can I assist you today?           \n",
       "\n",
       "                                                 Data  \\\n",
       "0   {'Completion': {'id': 'chatcmpl-9wVhPaSkySWAXZ...   \n",
       "1   {'Completion': {'id': 'chatcmpl-9wVhQtT4UIZdQZ...   \n",
       "2   {'Completion': {'id': 'chatcmpl-9wVhRf25qD34kt...   \n",
       "3   {'Completion': {'id': 'chatcmpl-9wVhSqokdZxkUS...   \n",
       "4   {'Completion': {'id': 'chatcmpl-9wVhSePIGJrAxQ...   \n",
       "..                                                ...   \n",
       "95  {'Completion': {'id': 'chatcmpl-9wVigUj8jhTGcI...   \n",
       "96  {'Completion': {'id': 'chatcmpl-9wVih32XvgB2VY...   \n",
       "97  {'Completion': {'id': 'chatcmpl-9wVihGcXgMP8Ot...   \n",
       "98  {'Completion': {'id': 'chatcmpl-9wViiAV3zM8M4s...   \n",
       "99  {'Completion': {'id': 'chatcmpl-9wVim3V1g3Wgix...   \n",
       "\n",
       "                          Instruction  \n",
       "0   [{'role': 'user', 'content': ''}]  \n",
       "1   [{'role': 'user', 'content': ''}]  \n",
       "2   [{'role': 'user', 'content': ''}]  \n",
       "3   [{'role': 'user', 'content': ''}]  \n",
       "4   [{'role': 'user', 'content': ''}]  \n",
       "..                                ...  \n",
       "95  [{'role': 'user', 'content': ''}]  \n",
       "96  [{'role': 'user', 'content': ''}]  \n",
       "97  [{'role': 'user', 'content': ''}]  \n",
       "98  [{'role': 'user', 'content': ''}]  \n",
       "99  [{'role': 'user', 'content': ''}]  \n",
       "\n",
       "[100 rows x 4 columns]"
      ]
     },
     "execution_count": 73,
     "metadata": {},
     "output_type": "execute_result"
    }
   ],
   "source": [
    "level"
   ]
  },
  {
   "cell_type": "code",
   "execution_count": 106,
   "metadata": {},
   "outputs": [],
   "source": [
    "prompt = completions.iloc[n][\"Instruction\"]"
   ]
  },
  {
   "cell_type": "code",
   "execution_count": null,
   "metadata": {},
   "outputs": [],
   "source": [
    "completions"
   ]
  },
  {
   "cell_type": "code",
   "execution_count": 64,
   "metadata": {},
   "outputs": [
    {
     "data": {
      "text/plain": [
       "Response       Embrace a growth mindset and be open to learni...\n",
       "Eval                                                Best - first\n",
       "Data           {'Completion': {'id': 'chatcmpl-A1Aq3u4RtEypi5...\n",
       "Instruction    [{'role': 'user', 'content': 'Remember that te...\n",
       "Name: 712, dtype: object"
      ]
     },
     "execution_count": 64,
     "metadata": {},
     "output_type": "execute_result"
    }
   ],
   "source": [
    "n = 712\n",
    "completions.iloc[n]"
   ]
  },
  {
   "cell_type": "code",
   "execution_count": 63,
   "metadata": {},
   "outputs": [
    {
     "name": "stdout",
     "output_type": "stream",
     "text": [
      "[{'role': 'user', 'content': \"Embrace a growth mindset and be open to learning from others, whether through formal education, online courses, workshops, or networking with other professionals in the industry. Seek out mentors or colleagues who can provide guidance and support as you continue to expand your knowledge and skillset.\\n\\nIt's also important to stay informed about emerging technologies and trends in your field, so you can adapt and stay competitive in the ever-changing tech industry. Follow industry news, attend conferences and events, and participate in online forums and communities to stay connected and up-to-date on the latest developments.\\n\\nBy consistently investing in your learning and development, you can position yourself as a valuable asset in the tech industry and unlock new opportunities for career advancement and personal growth. Stay curious, stay hungry, and never stop seeking out ways to grow and evolve in the fast-paced world of technology.\"}]\n"
     ]
    }
   ],
   "source": [
    "tag = \"Best - first\"\n",
    "completions.loc[n,\"Eval\"] = tag\n",
    "completions.to_json(os.path.join(df_path, file), lines=True, orient=\"records\")\n",
    "selected_response = completions[completions[\"Eval\"].apply(lambda x: x.startswith(tag))].iloc[-1][\"Response\"]\n",
    "if chat:\n",
    "    messages = copy.deepcopy(completions[completions[\"Eval\"].apply(lambda x: x.startswith(tag))].iloc[0][\"Instruction\"])\n",
    "    messages.append({\"role\": \"assistant\", \"content\": selected_response})\n",
    "    prompt = transform_roles(messages)\n",
    "else:\n",
    "    prompt = [{\"role\": \"user\", \"content\": selected_response}]\n",
    "print(prompt)"
   ]
  },
  {
   "cell_type": "code",
   "execution_count": 58,
   "metadata": {},
   "outputs": [
    {
     "data": {
      "text/plain": [
       "[{'role': 'user',\n",
       "  'content': \"Remember that technology is constantly evolving, and it's essential to stay curious, keep learning, and be proactive in seeking out new opportunities for growth and development. By staying ahead of trends and continually refining your skills, you can navigate the tech landscape with confidence and effectively leverage new technologies to drive innovation and success in your endeavors.\"}]"
      ]
     },
     "execution_count": 58,
     "metadata": {},
     "output_type": "execute_result"
    }
   ],
   "source": [
    "prompt"
   ]
  }
 ],
 "metadata": {
  "kernelspec": {
   "display_name": "base",
   "language": "python",
   "name": "python3"
  },
  "language_info": {
   "codemirror_mode": {
    "name": "ipython",
    "version": 3
   },
   "file_extension": ".py",
   "mimetype": "text/x-python",
   "name": "python",
   "nbconvert_exporter": "python",
   "pygments_lexer": "ipython3",
   "version": "3.12.4"
  }
 },
 "nbformat": 4,
 "nbformat_minor": 2
}
