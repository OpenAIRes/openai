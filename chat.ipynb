{
 "cells": [
  {
   "cell_type": "code",
   "execution_count": 142,
   "metadata": {},
   "outputs": [],
   "source": [
    "MODEL = \"gpt-4o-2024-08-06\"\n",
    "#MODEL = \"gpt-4o-mini\"\n",
    "#MODEL = \"gpt-3.5-turbo\"\n",
    "#prompt = [{\"role\": \"user\", \"content\": \"\"}]\n",
    "loops = 10\n",
    "#temperature = 1.5\n",
    "#file = f\"{MODEL}/single message/2\" #alphabet/5\"\n",
    "file = \"completions/gpt-4o-2024-08-06/after gpt-3.5-turbo/3\"\n",
    "\n",
    "import os\n",
    "from openai import OpenAI\n",
    "import pandas as pd\n",
    "from IPython.display import display_markdown\n",
    "import copy\n",
    "\n",
    "client = OpenAI()\n",
    "df_path = os.getcwd()\n",
    "chat = False\n",
    "\n",
    "\n",
    "def transform_roles(chat,assistant_transform_type = \"user-assistant\"):\n",
    "    prompt_messages = copy.deepcopy(chat)\n",
    "    if assistant_transform_type == \"user-assistant\":\n",
    "      i = 1\n",
    "      while i <= len(prompt_messages) and prompt_messages[-i][\"role\"] != \"system\":\n",
    "        if i%2 == 1:\n",
    "          prompt_messages[-i][\"role\"] = \"user\"\n",
    "        else:\n",
    "          prompt_messages[-i][\"role\"] = \"assistant\"\n",
    "        i += 1\n",
    "    else:\n",
    "      for prompt_message in prompt_messages:\n",
    "        if prompt_message[\"role\"] == \"assistant\":\n",
    "          prompt_message[\"role\"] = assistant_transform_type\n",
    "    return prompt_messages\n",
    "def load (path):\n",
    "    with open(path, \"r\") as f:\n",
    "        completions = pd.read_json(f, lines=True)\n",
    "    return completions"
   ]
  },
  {
   "cell_type": "code",
   "execution_count": 143,
   "metadata": {},
   "outputs": [],
   "source": [
    "# Load completions from json, if continuing with a file generated in the past\n",
    "\n",
    "try:\n",
    "    with open(os.path.join(df_path,file), \"r\") as f:\n",
    "        completions = pd.read_json(f, lines=True)\n",
    "\n",
    "# If not, create a new completions database\n",
    "\n",
    "except FileNotFoundError:\n",
    "    completions = pd.DataFrame([],columns=['Response', 'Eval', 'Data', 'Instruction'])\n",
    "    print(completions)"
   ]
  },
  {
   "cell_type": "code",
   "execution_count": 140,
   "metadata": {},
   "outputs": [
    {
     "data": {
      "text/plain": [
       "[{'role': 'user',\n",
       "  'content': 'Certainly! As of the latest updates in 2023, here are some of the prominent technology trends:\\n\\n1. **Artificial Intelligence and Machine Learning**: AI continues to evolve with advancements in natural language processing, generative AI models like GPT, and reinforcement learning. AI is increasingly being integrated across various industries for automation and decision-making.\\n\\n2. **Quantum Computing**: This field is making strides, with companies developing more stable and error-corrected qubits. Quantum computing holds the potential to solve complex problems beyond the reach of classical computers.\\n\\n3. **5G and Beyond**: The rollout of 5G networks is expanding, enabling faster mobile internet and new use cases such as enhanced IoT connectivity, smart cities, and more reliable remote work capabilities.\\n\\n4. **Internet of Things (IoT)**: IoT devices are becoming more intelligent and integrated, driving smart home technology, industrial IoT applications, and improvements in healthcare monitoring systems.\\n\\n5. **Cybersecurity**: As digital threats grow, cybersecurity is a major focus, with advancements in AI-driven security tools, zero-trust architecture, and biometrics for more secure authentication.\\n\\n6. **Extended Reality (XR)**: This includes augmented reality (AR), virtual reality (VR), and mixed reality (MR). These technologies are being applied in gaming, training, remote work, and retail to enhance user experiences.\\n\\n7. **Blockchain and Cryptocurrencies**: Beyond cryptocurrencies, blockchain is being explored for supply chain management, secure data sharing, and digital identity verification.\\n\\n8. **Sustainable Tech**: Innovations in sustainable technology are rising, aimed at reducing carbon footprints through renewable energy solutions, eco-friendly manufacturing processes, and sustainable data centers.\\n\\n9. **Biotechnology Advances**: The intersection of technology and biology is yielding progress in genetic engineering, personalized medicine, and biomanufacturing, transforming healthcare and agriculture.\\n\\n10. **Autonomous Systems**: This includes advancements in autonomous vehicles, drones, and robotics, driven by improvements in sensors and AI, impacting industries like transportation, logistics, and manufacturing.\\n\\nThese trends highlight how technology is continuing to reshape industries and impact everyday life. Staying informed and adaptable will be key as these technologies evolve.'}]"
      ]
     },
     "execution_count": 140,
     "metadata": {},
     "output_type": "execute_result"
    }
   ],
   "source": [
    "prompt"
   ]
  },
  {
   "cell_type": "code",
   "execution_count": 141,
   "metadata": {},
   "outputs": [],
   "source": [
    "for i in range(loops):\n",
    "    completion = client.chat.completions.create(\n",
    "        messages = prompt,\n",
    "        #temperature = temperature,\n",
    "        model = MODEL,\n",
    "        )\n",
    "    response = completion.choices[0].message.content\n",
    "\n",
    "    data = {'Response': response, 'Eval': \"\", 'Data': {}, 'Instruction': prompt}\n",
    "    data = pd.DataFrame([data])\n",
    "    data.at[0, \"Data\"] = {\"Completion\":completion.to_dict()}\n",
    "    completions = pd.concat([completions, data],ignore_index=True)\n",
    "    completions.to_json(os.path.join(df_path, file), lines=True, orient=\"records\")"
   ]
  },
  {
   "cell_type": "code",
   "execution_count": 156,
   "metadata": {},
   "outputs": [],
   "source": [
    "content = completions[\"Response\"][0]"
   ]
  },
  {
   "cell_type": "code",
   "execution_count": 157,
   "metadata": {},
   "outputs": [
    {
     "data": {
      "text/plain": [
       "'Certainly! As of the latest updates in 2023, here are some of the prominent technology trends:\\n\\n1. **Artificial Intelligence and Machine Learning**: AI continues to evolve with advancements in natural language processing, generative AI models like GPT, and reinforcement learning. AI is increasingly being integrated across various industries for automation and decision-making.\\n\\n2. **Quantum Computing**: This field is making strides, with companies developing more stable and error-corrected qubits. Quantum computing holds the potential to solve complex problems beyond the reach of classical computers.\\n\\n3. **5G and Beyond**: The rollout of 5G networks is expanding, enabling faster mobile internet and new use cases such as enhanced IoT connectivity, smart cities, and more reliable remote work capabilities.\\n\\n4. **Internet of Things (IoT)**: IoT devices are becoming more intelligent and integrated, driving smart home technology, industrial IoT applications, and improvements in healthcare monitoring systems.\\n\\n5. **Cybersecurity**: As digital threats grow, cybersecurity is a major focus, with advancements in AI-driven security tools, zero-trust architecture, and biometrics for more secure authentication.\\n\\n6. **Extended Reality (XR)**: This includes augmented reality (AR), virtual reality (VR), and mixed reality (MR). These technologies are being applied in gaming, training, remote work, and retail to enhance user experiences.\\n\\n7. **Blockchain and Cryptocurrencies**: Beyond cryptocurrencies, blockchain is being explored for supply chain management, secure data sharing, and digital identity verification.\\n\\n8. **Sustainable Tech**: Innovations in sustainable technology are rising, aimed at reducing carbon footprints through renewable energy solutions, eco-friendly manufacturing processes, and sustainable data centers.\\n\\n9. **Biotechnology Advances**: The intersection of technology and biology is yielding progress in genetic engineering, personalized medicine, and biomanufacturing, transforming healthcare and agriculture.\\n\\n10. **Autonomous Systems**: This includes advancements in autonomous vehicles, drones, and robotics, driven by improvements in sensors and AI, impacting industries like transportation, logistics, and manufacturing.\\n\\nThese trends highlight how technology is continuing to reshape industries and impact everyday life. Staying informed and adaptable will be key as these technologies evolve.'"
      ]
     },
     "execution_count": 157,
     "metadata": {},
     "output_type": "execute_result"
    }
   ],
   "source": [
    "content"
   ]
  },
  {
   "cell_type": "code",
   "execution_count": 66,
   "metadata": {},
   "outputs": [],
   "source": [
    "completions.to_json(os.path.join(df_path, file), lines=True, orient=\"records\")"
   ]
  },
  {
   "cell_type": "code",
   "execution_count": 84,
   "metadata": {},
   "outputs": [],
   "source": [
    "best_chat = completions[completions[\"Eval\"] != \"\"]"
   ]
  },
  {
   "cell_type": "code",
   "execution_count": 109,
   "metadata": {},
   "outputs": [
    {
     "data": {
      "text/html": [
       "<div>\n",
       "<style scoped>\n",
       "    .dataframe tbody tr th:only-of-type {\n",
       "        vertical-align: middle;\n",
       "    }\n",
       "\n",
       "    .dataframe tbody tr th {\n",
       "        vertical-align: top;\n",
       "    }\n",
       "\n",
       "    .dataframe thead th {\n",
       "        text-align: right;\n",
       "    }\n",
       "</style>\n",
       "<table border=\"1\" class=\"dataframe\">\n",
       "  <thead>\n",
       "    <tr style=\"text-align: right;\">\n",
       "      <th></th>\n",
       "      <th>Response</th>\n",
       "      <th>Eval</th>\n",
       "      <th>Data</th>\n",
       "      <th>Instruction</th>\n",
       "    </tr>\n",
       "  </thead>\n",
       "  <tbody>\n",
       "    <tr>\n",
       "      <th>0</th>\n",
       "      <td>Hello! How can I assist you today?</td>\n",
       "      <td>Common</td>\n",
       "      <td>{'Completion': {'id': 'chatcmpl-9wVhPaSkySWAXZ...</td>\n",
       "      <td>[{'role': 'user', 'content': ''}]</td>\n",
       "    </tr>\n",
       "    <tr>\n",
       "      <th>160</th>\n",
       "      <td>Hello! Can you provide me with information on ...</td>\n",
       "      <td>First alphabetically</td>\n",
       "      <td>{'Completion': {'id': 'chatcmpl-9wVn0rcvWu1BR6...</td>\n",
       "      <td>[{'role': 'user', 'content': 'Hello! How can I...</td>\n",
       "    </tr>\n",
       "    <tr>\n",
       "      <th>260</th>\n",
       "      <td>Absolutely! Here are some of the latest techno...</td>\n",
       "      <td>First alphabetically</td>\n",
       "      <td>{'Completion': {'id': 'chatcmpl-9wco1dtPpD93v4...</td>\n",
       "      <td>[{'role': 'user', 'content': 'Hello! Can you p...</td>\n",
       "    </tr>\n",
       "    <tr>\n",
       "      <th>341</th>\n",
       "      <td>\\n\\nUltimately, staying informed about these t...</td>\n",
       "      <td>Best</td>\n",
       "      <td>{'Completion': {'id': 'chatcmpl-9wm4FdS5ylTSDT...</td>\n",
       "      <td>[{'role': 'user', 'content': 'Absolutely! Here...</td>\n",
       "    </tr>\n",
       "    <tr>\n",
       "      <th>480</th>\n",
       "      <td>Stay up to date with trends in technology by f...</td>\n",
       "      <td>Best</td>\n",
       "      <td>{'Completion': {'id': 'chatcmpl-9wmJ6YRXimFRfp...</td>\n",
       "      <td>[{'role': 'user', 'content': '\n",
       "\n",
       "Ultimately, st...</td>\n",
       "    </tr>\n",
       "    <tr>\n",
       "      <th>573</th>\n",
       "      <td>Some popular tech blogs to follow include Tech...</td>\n",
       "      <td>Common</td>\n",
       "      <td>{'Completion': {'id': 'chatcmpl-9wmbinDqRbPIY1...</td>\n",
       "      <td>[{'role': 'user', 'content': 'Stay up to date ...</td>\n",
       "    </tr>\n",
       "  </tbody>\n",
       "</table>\n",
       "</div>"
      ],
      "text/plain": [
       "                                              Response                  Eval  \\\n",
       "0                   Hello! How can I assist you today?                Common   \n",
       "160  Hello! Can you provide me with information on ...  First alphabetically   \n",
       "260  Absolutely! Here are some of the latest techno...  First alphabetically   \n",
       "341  \\n\\nUltimately, staying informed about these t...                  Best   \n",
       "480  Stay up to date with trends in technology by f...                  Best   \n",
       "573  Some popular tech blogs to follow include Tech...                Common   \n",
       "\n",
       "                                                  Data  \\\n",
       "0    {'Completion': {'id': 'chatcmpl-9wVhPaSkySWAXZ...   \n",
       "160  {'Completion': {'id': 'chatcmpl-9wVn0rcvWu1BR6...   \n",
       "260  {'Completion': {'id': 'chatcmpl-9wco1dtPpD93v4...   \n",
       "341  {'Completion': {'id': 'chatcmpl-9wm4FdS5ylTSDT...   \n",
       "480  {'Completion': {'id': 'chatcmpl-9wmJ6YRXimFRfp...   \n",
       "573  {'Completion': {'id': 'chatcmpl-9wmbinDqRbPIY1...   \n",
       "\n",
       "                                           Instruction  \n",
       "0                    [{'role': 'user', 'content': ''}]  \n",
       "160  [{'role': 'user', 'content': 'Hello! How can I...  \n",
       "260  [{'role': 'user', 'content': 'Hello! Can you p...  \n",
       "341  [{'role': 'user', 'content': 'Absolutely! Here...  \n",
       "480  [{'role': 'user', 'content': '\n",
       "\n",
       "Ultimately, st...  \n",
       "573  [{'role': 'user', 'content': 'Stay up to date ...  "
      ]
     },
     "execution_count": 109,
     "metadata": {},
     "output_type": "execute_result"
    }
   ],
   "source": [
    "best_chat"
   ]
  },
  {
   "cell_type": "code",
   "execution_count": 110,
   "metadata": {},
   "outputs": [],
   "source": [
    "prompt = best_chat.iloc[2][\"Instruction\"]"
   ]
  },
  {
   "cell_type": "code",
   "execution_count": 111,
   "metadata": {},
   "outputs": [
    {
     "data": {
      "text/plain": [
       "[{'role': 'user',\n",
       "  'content': 'Hello! Can you provide me with information on the latest technology trends?'}]"
      ]
     },
     "execution_count": 111,
     "metadata": {},
     "output_type": "execute_result"
    }
   ],
   "source": [
    "prompt"
   ]
  },
  {
   "cell_type": "code",
   "execution_count": 81,
   "metadata": {},
   "outputs": [],
   "source": [
    "level = completions.iloc[500:600]"
   ]
  },
  {
   "cell_type": "code",
   "execution_count": 73,
   "metadata": {},
   "outputs": [
    {
     "data": {
      "text/html": [
       "<div>\n",
       "<style scoped>\n",
       "    .dataframe tbody tr th:only-of-type {\n",
       "        vertical-align: middle;\n",
       "    }\n",
       "\n",
       "    .dataframe tbody tr th {\n",
       "        vertical-align: top;\n",
       "    }\n",
       "\n",
       "    .dataframe thead th {\n",
       "        text-align: right;\n",
       "    }\n",
       "</style>\n",
       "<table border=\"1\" class=\"dataframe\">\n",
       "  <thead>\n",
       "    <tr style=\"text-align: right;\">\n",
       "      <th></th>\n",
       "      <th>Response</th>\n",
       "      <th>Eval</th>\n",
       "      <th>Data</th>\n",
       "      <th>Instruction</th>\n",
       "    </tr>\n",
       "  </thead>\n",
       "  <tbody>\n",
       "    <tr>\n",
       "      <th>100</th>\n",
       "      <td>Hello! I'm here to help with any questions or ...</td>\n",
       "      <td></td>\n",
       "      <td>{'Completion': {'id': 'chatcmpl-9wVm1lJJz83ono...</td>\n",
       "      <td>[{'role': 'user', 'content': 'Hello! How can I...</td>\n",
       "    </tr>\n",
       "    <tr>\n",
       "      <th>101</th>\n",
       "      <td>Hello! I'm here to answer any questions you ma...</td>\n",
       "      <td></td>\n",
       "      <td>{'Completion': {'id': 'chatcmpl-9wVm2zeUTXULrQ...</td>\n",
       "      <td>[{'role': 'user', 'content': 'Hello! How can I...</td>\n",
       "    </tr>\n",
       "    <tr>\n",
       "      <th>102</th>\n",
       "      <td>Hello! I'm just here to help with any question...</td>\n",
       "      <td></td>\n",
       "      <td>{'Completion': {'id': 'chatcmpl-9wVm371Ft0IgMj...</td>\n",
       "      <td>[{'role': 'user', 'content': 'Hello! How can I...</td>\n",
       "    </tr>\n",
       "    <tr>\n",
       "      <th>103</th>\n",
       "      <td>I'm an AI digital assistant here to help you w...</td>\n",
       "      <td></td>\n",
       "      <td>{'Completion': {'id': 'chatcmpl-9wVm37GeVe3Pt3...</td>\n",
       "      <td>[{'role': 'user', 'content': 'Hello! How can I...</td>\n",
       "    </tr>\n",
       "    <tr>\n",
       "      <th>104</th>\n",
       "      <td>Hello! I am an AI assistant here to help answe...</td>\n",
       "      <td></td>\n",
       "      <td>{'Completion': {'id': 'chatcmpl-9wVm4yX65qO8TO...</td>\n",
       "      <td>[{'role': 'user', 'content': 'Hello! How can I...</td>\n",
       "    </tr>\n",
       "    <tr>\n",
       "      <th>...</th>\n",
       "      <td>...</td>\n",
       "      <td>...</td>\n",
       "      <td>...</td>\n",
       "      <td>...</td>\n",
       "    </tr>\n",
       "    <tr>\n",
       "      <th>195</th>\n",
       "      <td>Hello! I am here to help answer any questions ...</td>\n",
       "      <td></td>\n",
       "      <td>{'Completion': {'id': 'chatcmpl-9wVnXdh9q3hKls...</td>\n",
       "      <td>[{'role': 'user', 'content': 'Hello! How can I...</td>\n",
       "    </tr>\n",
       "    <tr>\n",
       "      <th>196</th>\n",
       "      <td>Hello! I am an AI digital assistant here to he...</td>\n",
       "      <td></td>\n",
       "      <td>{'Completion': {'id': 'chatcmpl-9wVnYokWwtpB5Q...</td>\n",
       "      <td>[{'role': 'user', 'content': 'Hello! How can I...</td>\n",
       "    </tr>\n",
       "    <tr>\n",
       "      <th>197</th>\n",
       "      <td>Hello! I'm here to assist you with any questio...</td>\n",
       "      <td></td>\n",
       "      <td>{'Completion': {'id': 'chatcmpl-9wVnZZxn3qLKLj...</td>\n",
       "      <td>[{'role': 'user', 'content': 'Hello! How can I...</td>\n",
       "    </tr>\n",
       "    <tr>\n",
       "      <th>198</th>\n",
       "      <td>Hi there! I was just wondering if you could pr...</td>\n",
       "      <td></td>\n",
       "      <td>{'Completion': {'id': 'chatcmpl-9wVna05St8DYKj...</td>\n",
       "      <td>[{'role': 'user', 'content': 'Hello! How can I...</td>\n",
       "    </tr>\n",
       "    <tr>\n",
       "      <th>199</th>\n",
       "      <td>Hello! I don't need any assistance at the mome...</td>\n",
       "      <td></td>\n",
       "      <td>{'Completion': {'id': 'chatcmpl-9wVnbFnXhSqO5a...</td>\n",
       "      <td>[{'role': 'user', 'content': 'Hello! How can I...</td>\n",
       "    </tr>\n",
       "  </tbody>\n",
       "</table>\n",
       "<p>100 rows × 4 columns</p>\n",
       "</div>"
      ],
      "text/plain": [
       "                                              Response Eval  \\\n",
       "100  Hello! I'm here to help with any questions or ...        \n",
       "101  Hello! I'm here to answer any questions you ma...        \n",
       "102  Hello! I'm just here to help with any question...        \n",
       "103  I'm an AI digital assistant here to help you w...        \n",
       "104  Hello! I am an AI assistant here to help answe...        \n",
       "..                                                 ...  ...   \n",
       "195  Hello! I am here to help answer any questions ...        \n",
       "196  Hello! I am an AI digital assistant here to he...        \n",
       "197  Hello! I'm here to assist you with any questio...        \n",
       "198  Hi there! I was just wondering if you could pr...        \n",
       "199  Hello! I don't need any assistance at the mome...        \n",
       "\n",
       "                                                  Data  \\\n",
       "100  {'Completion': {'id': 'chatcmpl-9wVm1lJJz83ono...   \n",
       "101  {'Completion': {'id': 'chatcmpl-9wVm2zeUTXULrQ...   \n",
       "102  {'Completion': {'id': 'chatcmpl-9wVm371Ft0IgMj...   \n",
       "103  {'Completion': {'id': 'chatcmpl-9wVm37GeVe3Pt3...   \n",
       "104  {'Completion': {'id': 'chatcmpl-9wVm4yX65qO8TO...   \n",
       "..                                                 ...   \n",
       "195  {'Completion': {'id': 'chatcmpl-9wVnXdh9q3hKls...   \n",
       "196  {'Completion': {'id': 'chatcmpl-9wVnYokWwtpB5Q...   \n",
       "197  {'Completion': {'id': 'chatcmpl-9wVnZZxn3qLKLj...   \n",
       "198  {'Completion': {'id': 'chatcmpl-9wVna05St8DYKj...   \n",
       "199  {'Completion': {'id': 'chatcmpl-9wVnbFnXhSqO5a...   \n",
       "\n",
       "                                           Instruction  \n",
       "100  [{'role': 'user', 'content': 'Hello! How can I...  \n",
       "101  [{'role': 'user', 'content': 'Hello! How can I...  \n",
       "102  [{'role': 'user', 'content': 'Hello! How can I...  \n",
       "103  [{'role': 'user', 'content': 'Hello! How can I...  \n",
       "104  [{'role': 'user', 'content': 'Hello! How can I...  \n",
       "..                                                 ...  \n",
       "195  [{'role': 'user', 'content': 'Hello! How can I...  \n",
       "196  [{'role': 'user', 'content': 'Hello! How can I...  \n",
       "197  [{'role': 'user', 'content': 'Hello! How can I...  \n",
       "198  [{'role': 'user', 'content': 'Hello! How can I...  \n",
       "199  [{'role': 'user', 'content': 'Hello! How can I...  \n",
       "\n",
       "[100 rows x 4 columns]"
      ]
     },
     "execution_count": 73,
     "metadata": {},
     "output_type": "execute_result"
    }
   ],
   "source": [
    "level"
   ]
  },
  {
   "cell_type": "code",
   "execution_count": 106,
   "metadata": {},
   "outputs": [],
   "source": [
    "prompt = completions.iloc[n][\"Instruction\"]"
   ]
  },
  {
   "cell_type": "code",
   "execution_count": 136,
   "metadata": {},
   "outputs": [
    {
     "data": {
      "text/plain": [
       "Response       Certainly! As of the latest updates in 2023, h...\n",
       "Eval                                                            \n",
       "Data           {'Completion': {'id': 'chatcmpl-9z8nHJvGmmooGe...\n",
       "Instruction    [{'role': 'user', 'content': 'Hello! Can you p...\n",
       "Name: 0, dtype: object"
      ]
     },
     "execution_count": 136,
     "metadata": {},
     "output_type": "execute_result"
    }
   ],
   "source": [
    "n = 0\n",
    "completions.iloc[n]"
   ]
  },
  {
   "cell_type": "code",
   "execution_count": 137,
   "metadata": {},
   "outputs": [
    {
     "name": "stdout",
     "output_type": "stream",
     "text": [
      "[{'role': 'user', 'content': 'Certainly! As of the latest updates in 2023, here are some of the prominent technology trends:\\n\\n1. **Artificial Intelligence and Machine Learning**: AI continues to evolve with advancements in natural language processing, generative AI models like GPT, and reinforcement learning. AI is increasingly being integrated across various industries for automation and decision-making.\\n\\n2. **Quantum Computing**: This field is making strides, with companies developing more stable and error-corrected qubits. Quantum computing holds the potential to solve complex problems beyond the reach of classical computers.\\n\\n3. **5G and Beyond**: The rollout of 5G networks is expanding, enabling faster mobile internet and new use cases such as enhanced IoT connectivity, smart cities, and more reliable remote work capabilities.\\n\\n4. **Internet of Things (IoT)**: IoT devices are becoming more intelligent and integrated, driving smart home technology, industrial IoT applications, and improvements in healthcare monitoring systems.\\n\\n5. **Cybersecurity**: As digital threats grow, cybersecurity is a major focus, with advancements in AI-driven security tools, zero-trust architecture, and biometrics for more secure authentication.\\n\\n6. **Extended Reality (XR)**: This includes augmented reality (AR), virtual reality (VR), and mixed reality (MR). These technologies are being applied in gaming, training, remote work, and retail to enhance user experiences.\\n\\n7. **Blockchain and Cryptocurrencies**: Beyond cryptocurrencies, blockchain is being explored for supply chain management, secure data sharing, and digital identity verification.\\n\\n8. **Sustainable Tech**: Innovations in sustainable technology are rising, aimed at reducing carbon footprints through renewable energy solutions, eco-friendly manufacturing processes, and sustainable data centers.\\n\\n9. **Biotechnology Advances**: The intersection of technology and biology is yielding progress in genetic engineering, personalized medicine, and biomanufacturing, transforming healthcare and agriculture.\\n\\n10. **Autonomous Systems**: This includes advancements in autonomous vehicles, drones, and robotics, driven by improvements in sensors and AI, impacting industries like transportation, logistics, and manufacturing.\\n\\nThese trends highlight how technology is continuing to reshape industries and impact everyday life. Staying informed and adaptable will be key as these technologies evolve.'}]\n"
     ]
    }
   ],
   "source": [
    "tag = \"First\"\n",
    "completions.loc[n,\"Eval\"] = tag\n",
    "completions.to_json(os.path.join(df_path, file), lines=True, orient=\"records\")\n",
    "selected_response = completions[completions[\"Eval\"].apply(lambda x: x.startswith(tag))].iloc[-1][\"Response\"]\n",
    "if chat:\n",
    "    messages = copy.deepcopy(completions[completions[\"Eval\"].apply(lambda x: x.startswith(tag))].iloc[0][\"Instruction\"])\n",
    "    messages.append({\"role\": \"assistant\", \"content\": selected_response})\n",
    "    prompt = transform_roles(messages)\n",
    "else:\n",
    "    prompt = [{\"role\": \"user\", \"content\": selected_response}]\n",
    "print(prompt)"
   ]
  },
  {
   "cell_type": "code",
   "execution_count": 107,
   "metadata": {},
   "outputs": [
    {
     "data": {
      "text/plain": [
       "[{'role': 'user',\n",
       "  'content': \"Stay connected with the tech world by following influential thought leaders on social media platforms such as Twitter, LinkedIn, and Medium. These individuals often share insights, industry news, and trends that can help you stay up to date with the latest developments.\\n\\nIn addition, subscribing to podcasts and webinars focused on technology can provide valuable educational content and discussions on cutting-edge topics. Platforms like TED Talks, Tech Podcasts, and YouTube channels dedicated to tech reviews and discussions can be great resources for staying informed.\\n\\nLastly, consider joining online communities and forums related to technology, such as Reddit's technology and programming subreddits, or industry-specific groups on platforms like Facebook and LinkedIn. Engaging with these communities can provide opportunities to network, learn from others, and share insights and experiences in the tech space.\"}]"
      ]
     },
     "execution_count": 107,
     "metadata": {},
     "output_type": "execute_result"
    }
   ],
   "source": [
    "prompt"
   ]
  }
 ],
 "metadata": {
  "kernelspec": {
   "display_name": "base",
   "language": "python",
   "name": "python3"
  },
  "language_info": {
   "codemirror_mode": {
    "name": "ipython",
    "version": 3
   },
   "file_extension": ".py",
   "mimetype": "text/x-python",
   "name": "python",
   "nbconvert_exporter": "python",
   "pygments_lexer": "ipython3",
   "version": "3.12.4"
  }
 },
 "nbformat": 4,
 "nbformat_minor": 2
}
