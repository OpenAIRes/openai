{
 "cells": [
  {
   "cell_type": "markdown",
   "metadata": {},
   "source": [
    "Dnešní den bylo cílem doletět na Mars. Jenomže jakmile jsme doletěli na Mars, celá posádka se potopila do hlubin černého vesmíru. Mimozemská síla vás odnesla s celou posádkou snad do vesmíru, který je vzdálený několik světelných let. Pak slyšíte ticho a nic nevidíte. A pak se proberete na neznámém asteroidu a nevidíte kolem sebe nic, jenom hvězdy, asteroidy a černočerný vesmír. Zúčastníš se naší hry a pomůžeš nám se vrátit zpátky na zeměkouli? Pokud ano, klikni na tlačítko na obrazovce."
   ]
  },
  {
   "cell_type": "markdown",
   "metadata": {},
   "source": [
    "S sebou máš jenom trošku kyslíku, což určitě nevystačí. Musíš si obstarat sám zásoby jako jídlo a pití."
   ]
  },
  {
   "cell_type": "code",
   "execution_count": null,
   "metadata": {},
   "outputs": [],
   "source": []
  },
  {
   "cell_type": "markdown",
   "metadata": {},
   "source": [
    "Gratulujeme ti! Celou posádku jsi v bezpečí dovezl až na Zem! Nezapomeň, jestli chceš, tak si zahraj další level."
   ]
  },
  {
   "cell_type": "code",
   "execution_count": 4,
   "metadata": {},
   "outputs": [
    {
     "name": "stdout",
     "output_type": "stream",
     "text": [
      "Vítejte ve hře Hádej číslo!\n"
     ]
    },
    {
     "name": "stdout",
     "output_type": "stream",
     "text": [
      "Zadejte prosím platné číslo.\n",
      "Vaše číslo je větší než tajné číslo.\n",
      "Vaše číslo je větší než tajné číslo.\n",
      "Vaše číslo je větší než tajné číslo.\n",
      "Vaše číslo je menší než tajné číslo.\n",
      "Vaše číslo je menší než tajné číslo.\n",
      "Gratulujeme! Uhodli jste číslo 2 za 6 pokusů.\n"
     ]
    }
   ],
   "source": [
    "import random\n",
    "\n",
    "def hadani_cisla():\n",
    "    print(\"Vítejte ve hře Hádej číslo!\")\n",
    "    rozsah_min = 1\n",
    "    rozsah_max = 100\n",
    "    tajne_cislo = random.randint(rozsah_min, rozsah_max)\n",
    "    pokusy = 0\n",
    "\n",
    "    while True:\n",
    "        tip = input(f\"Hádejte číslo mezi {rozsah_min} a {rozsah_max}: \")\n",
    "\n",
    "        if not tip.isdigit():\n",
    "            print(\"Zadejte prosím platné číslo.\")\n",
    "            continue\n",
    "\n",
    "        tip = int(tip)\n",
    "        pokusy += 1\n",
    "\n",
    "        if tip < tajne_cislo:\n",
    "            print(\"Vaše číslo je menší než tajné číslo.\")\n",
    "        elif tip > tajne_cislo:\n",
    "            print(\"Vaše číslo je větší než tajné číslo.\")\n",
    "        else:\n",
    "            print(f\"Gratulujeme! Uhodli jste číslo {tajne_cislo} za {pokusy} pokusů.\")\n",
    "            break\n",
    "\n",
    "if __name__ == \"__main__\":\n",
    "    hadani_cisla()\n"
   ]
  },
  {
   "cell_type": "code",
   "execution_count": null,
   "metadata": {},
   "outputs": [],
   "source": []
  }
 ],
 "metadata": {
  "kernelspec": {
   "display_name": "base",
   "language": "python",
   "name": "python3"
  },
  "language_info": {
   "codemirror_mode": {
    "name": "ipython",
    "version": 3
   },
   "file_extension": ".py",
   "mimetype": "text/x-python",
   "name": "python",
   "nbconvert_exporter": "python",
   "pygments_lexer": "ipython3",
   "version": "3.12.4"
  }
 },
 "nbformat": 4,
 "nbformat_minor": 2
}
