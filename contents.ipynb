{
 "cells": [
  {
   "cell_type": "code",
   "execution_count": 43,
   "metadata": {},
   "outputs": [],
   "source": [
    "MODEL = \"gpt-4o\"\n",
    "#MODEL = \"gpt-4o-mini\"\n",
    "#MODEL = \"gpt-3.5-turbo\"\n",
    "title = \"AI\"\n",
    "\n",
    "from openai import OpenAI\n",
    "import markdown\n",
    "import os\n",
    "from bs4 import BeautifulSoup\n",
    "import pandas as pd\n",
    "from IPython.display import display_markdown\n",
    "\n",
    "client = OpenAI()"
   ]
  },
  {
   "cell_type": "code",
   "execution_count": 75,
   "metadata": {},
   "outputs": [],
   "source": [
    "# Function to create a clickable element from headlines\n",
    "def process_headlines(html_content):\n",
    "    soup = BeautifulSoup(html_content, \"html.parser\")\n",
    "    \n",
    "    # Find all h1 text\n",
    "    for h in soup.find_all(['h1', 'h2', 'h3']):\n",
    "        h_text = h.text.strip()\n",
    "\n",
    "        # Create a clickable span with a custom style and onclick event\n",
    "        new_tag = soup.new_tag(\"span\", style=\"color: blue; cursor: pointer;\", onclick=f\"gotoContent('{h_text}')\")\n",
    "        new_tag.string = h_text\n",
    "        \n",
    "        # Clear the content of the header and append the span inside it\n",
    "        h.clear()\n",
    "        h.append(new_tag)\n",
    "\n",
    "    return str(soup)"
   ]
  },
  {
   "cell_type": "code",
   "execution_count": 22,
   "metadata": {},
   "outputs": [],
   "source": [
    "# Function to create a hyperlink or clickable element from bold text based on whether a file exists\n",
    "def process_bold_text(html_content):\n",
    "    soup = BeautifulSoup(html_content, \"html.parser\")\n",
    "    \n",
    "    # Find all bold text (both <strong> and <b> tags)\n",
    "    for bold_tag in soup.find_all(['strong', 'b']):\n",
    "        bold_text = bold_tag.text.strip()\n",
    "        html_file_name = f\"{bold_text}.html\"\n",
    "\n",
    "        # Check if a file with this name exists\n",
    "        if os.path.exists(html_file_name):\n",
    "            # Replace bold text with a hyperlink\n",
    "            new_tag = soup.new_tag(\"a\", href=html_file_name)\n",
    "            new_tag.string = bold_text\n",
    "            bold_tag.replace_with(new_tag)\n",
    "        else:\n",
    "            # Create a clickable span with a custom style and onclick event\n",
    "            new_tag = soup.new_tag(\"span\", style=\"color: blue; cursor: pointer;\", onclick=f\"fetchTitle('{bold_text}')\")\n",
    "            new_tag.string = bold_text\n",
    "            bold_tag.replace_with(new_tag)\n",
    "\n",
    "    return str(soup)"
   ]
  },
  {
   "cell_type": "code",
   "execution_count": 5,
   "metadata": {},
   "outputs": [],
   "source": [
    "completion = client.chat.completions.create(\n",
    "    messages = [{\"role\": \"user\", \"content\": title}],\n",
    "    model = MODEL,\n",
    "    )\n",
    "content = completion.choices[0].message.content\n",
    "html_content = markdown.markdown(content)\n",
    "\n",
    "# Creates a clickable element from each instance of bold text in html_content. If user clicks on the bold text, a function check whether there is html document with the same name as the bold text. If there is, user is redirected to this html document. If not, OpenAI API is called with messages = [{\"role\": \"user\", \"content\": \"title\"}], where title is content of the bold text."
   ]
  },
  {
   "cell_type": "code",
   "execution_count": 17,
   "metadata": {},
   "outputs": [],
   "source": [
    "d = completion.to_dict()\n",
    "df = pd.DataFrame([d])\n",
    "df.to_json(title)"
   ]
  },
  {
   "cell_type": "code",
   "execution_count": 77,
   "metadata": {},
   "outputs": [],
   "source": [
    "html_content = markdown.markdown(content, extensions=['markdown.extensions.extra', 'markdown.extensions.nl2br', 'markdown.extensions.sane_lists'])\n",
    "html_content = process_headlines(html_content)"
   ]
  },
  {
   "cell_type": "code",
   "execution_count": 79,
   "metadata": {},
   "outputs": [
    {
     "name": "stdout",
     "output_type": "stream",
     "text": [
      "HTML content created successfully.\n"
     ]
    }
   ],
   "source": [
    "# Wrapping the content in basic HTML structure\n",
    "html_page = f\"\"\"\n",
    "<!DOCTYPE html>\n",
    "<html lang=\"en\">\n",
    "<head>\n",
    "    <meta charset=\"UTF-8\">\n",
    "    <meta name=\"viewport\" content=\"width=device-width, initial-scale=1.0\">\n",
    "    <title>{title}</title>\n",
    "    <script src=\"scripts.js\"></script>\n",
    "</head>\n",
    "<body>\n",
    "    <p><h1>{title}</h1></p>\n",
    "    <p>{html_content}</p>\n",
    "</body>\n",
    "</html>\n",
    "\"\"\"\n",
    "\n",
    "# Optionally, you can save this HTML content to a file:\n",
    "with open(f\"{title}.html\", \"w\") as file:\n",
    "    file.write(html_page)\n",
    "\n",
    "print(\"HTML content created successfully.\")\n"
   ]
  }
 ],
 "metadata": {
  "kernelspec": {
   "display_name": "base",
   "language": "python",
   "name": "python3"
  },
  "language_info": {
   "codemirror_mode": {
    "name": "ipython",
    "version": 3
   },
   "file_extension": ".py",
   "mimetype": "text/x-python",
   "name": "python",
   "nbconvert_exporter": "python",
   "pygments_lexer": "ipython3",
   "version": "3.12.4"
  }
 },
 "nbformat": 4,
 "nbformat_minor": 2
}
