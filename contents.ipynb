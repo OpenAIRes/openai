{
 "cells": [
  {
   "cell_type": "code",
   "execution_count": 11,
   "metadata": {},
   "outputs": [],
   "source": [
    "MODEL = \"gpt-4o\"\n",
    "#MODEL = \"gpt-4o-mini\"\n",
    "#MODEL = \"gpt-3.5-turbo\"\n",
    "title = \"AI\"\n",
    "\n",
    "from openai import OpenAI\n",
    "import markdown\n",
    "import os\n",
    "from bs4 import BeautifulSoup\n",
    "import pandas as pd\n",
    "\n",
    "client = OpenAI()"
   ]
  },
  {
   "cell_type": "code",
   "execution_count": null,
   "metadata": {},
   "outputs": [],
   "source": [
    "# Function to create a hyperlink or clickable element based on whether a file exists\n",
    "def process_bold_text(html_content):\n",
    "    soup = BeautifulSoup(html_content, \"html.parser\")\n",
    "    \n",
    "    # Find all bold text (both <strong> and <b> tags)\n",
    "    for bold_tag in soup.find_all(['strong', 'b']):\n",
    "        bold_text = bold_tag.text.strip()\n",
    "        html_file_name = f\"{bold_text}.html\"\n",
    "\n",
    "        # Check if a file with this name exists\n",
    "        if os.path.exists(html_file_name):\n",
    "            # Replace bold text with a hyperlink\n",
    "            new_tag = soup.new_tag(\"a\", href=html_file_name)\n",
    "            new_tag.string = bold_text\n",
    "            bold_tag.replace_with(new_tag)\n",
    "        else:\n",
    "            # Create a clickable span with a custom style and onclick event\n",
    "            new_tag = soup.new_tag(\"span\", style=\"color: blue; cursor: pointer;\", onclick=f\"fetchTitle('{bold_text}')\")\n",
    "            new_tag.string = bold_text\n",
    "            bold_tag.replace_with(new_tag)\n",
    "\n",
    "    return str(soup)"
   ]
  },
  {
   "cell_type": "code",
   "execution_count": 5,
   "metadata": {},
   "outputs": [],
   "source": [
    "completion = client.chat.completions.create(\n",
    "    messages = [{\"role\": \"user\", \"content\": title}],\n",
    "    model = MODEL,\n",
    "    )\n",
    "content = completion.choices[0].message.content\n",
    "html_content = markdown.markdown(content)\n",
    "\n",
    "# Creates a clickable element from each instance of bold text in html_content. If user clicks on the bold text, a function check whether there is html document with the same name as the bold text. If there is, user is redirected to this html document. If not, OpenAI API is called with messages = [{\"role\": \"user\", \"content\": \"title\"}], where title is content of the bold text."
   ]
  },
  {
   "cell_type": "code",
   "execution_count": 17,
   "metadata": {},
   "outputs": [],
   "source": [
    "d = completion.to_dict()\n",
    "df = pd.DataFrame([d])\n",
    "df.to_json(title)"
   ]
  },
  {
   "cell_type": "code",
   "execution_count": 7,
   "metadata": {},
   "outputs": [
    {
     "data": {
      "text/plain": [
       "'<p>AI, or artificial intelligence, is a branch of computer science that focuses on creating systems capable of performing tasks that normally require human intelligence. These tasks include understanding natural language, recognizing patterns, solving problems, and making decisions. AI can be classified into several types based on complexity and capability:</p>\\n<ol>\\n<li><strong>Narrow AI (Weak AI)</strong>: </li>\\n<li>Designed and trained to perform specific tasks, such as facial recognition or voice assistants like Siri and Alexa.</li>\\n<li>\\n<p>These systems are highly specialized and cannot perform tasks outside their designed function.</p>\\n</li>\\n<li>\\n<p><strong>General AI (Strong AI)</strong>:</p>\\n</li>\\n<li>Hypothetical systems that possess the ability to perform any intellectual task that a human being can do.</li>\\n<li>\\n<p>They would have generalized cognitive abilities, similar to human intelligence.</p>\\n</li>\\n<li>\\n<p><strong>Artificial Superintelligence (ASI)</strong>:</p>\\n</li>\\n<li>Refers to AI that surpasses human intelligence in all aspects, including creativity and social intelligence.</li>\\n<li>It is a theoretical concept and remains a topic of much speculation and debate.</li>\\n</ol>\\n<h2>Key Areas of AI</h2>\\n<h3>Machine Learning (ML)</h3>\\n<p>Machine learning is a subset of AI that involves training algorithms to learn from and make predictions based on data. It includes:\\n- <strong>Supervised Learning</strong>: The algorithm is trained on labeled data.\\n- <strong>Unsupervised Learning</strong>: The algorithm works with unlabeled data to find patterns.\\n- <strong>Reinforcement Learning</strong>: The algorithm learns by interacting with its environment to receive rewards or penalties.</p>\\n<h3>Natural Language Processing (NLP)</h3>\\n<p>NLP involves the interaction between computers and humans through natural language. This includes:\\n- <strong>Speech Recognition</strong>: Converting spoken language into text.\\n- <strong>Machine Translation</strong>: Translating text from one language to another.\\n- <strong>Sentiment Analysis</strong>: Identifying and categorizing opinions expressed in text.</p>\\n<h3>Computer Vision</h3>\\n<p>Computer vision enables computers to interpret and make decisions based on visual data from the world, which includes:\\n- <strong>Image Recognition</strong>: Identifying objects or features in an image.\\n- <strong>Facial Recognition</strong>: Identifying or verifying a person from a digital image or video frame.</p>\\n<h3>Robotics</h3>\\n<p>AI in robotics involves creating robots that can assist humans in various tasks, from manufacturing to personal assistance. It includes:\\n- <strong>Autonomous Robots</strong>: Robots that operate without human intervention by understanding their environment.\\n- <strong>Collaborative Robots (Cobots)</strong>: Robots designed to work alongside humans.</p>\\n<h3>Expert Systems</h3>\\n<p>These are AI programs designed to solve complex problems by emulating the decision-making ability of a human expert. They use a knowledge base and set of rules for reasoning.</p>\\n<h2>Ethical Considerations</h2>\\n<p>AI brings with it various ethical concerns, such as:\\n- <strong>Bias and Fairness</strong>: Addressing the biases present in training data to avoid discriminatory outcomes.\\n- <strong>Privacy</strong>: Ensuring personal data is protected.\\n- <strong>Transparency</strong>: Making AI decision-making processes understandable and accountable.</p>\\n<h2>Future of AI</h2>\\n<p>The future of AI holds promise in numerous fields, including healthcare, education, and transportation. However, it also calls for careful regulation and ethical considerations to ensure AI benefits society as a whole.</p>\\n<p>By understanding the fundamentals of AI, its applications, and ethical implications, we can better prepare for the technological advancements it brings.</p>'"
      ]
     },
     "execution_count": 7,
     "metadata": {},
     "output_type": "execute_result"
    }
   ],
   "source": [
    "html_content"
   ]
  },
  {
   "cell_type": "code",
   "execution_count": 153,
   "metadata": {},
   "outputs": [
    {
     "name": "stdout",
     "output_type": "stream",
     "text": [
      "HTML content created successfully.\n"
     ]
    }
   ],
   "source": [
    "# Wrapping the content in basic HTML structure\n",
    "html_content = f\"\"\"\n",
    "<!DOCTYPE html>\n",
    "<html lang=\"en\">\n",
    "<head>\n",
    "    <meta charset=\"UTF-8\">\n",
    "    <meta name=\"viewport\" content=\"width=device-width, initial-scale=1.0\">\n",
    "    <title>{title}</title>\n",
    "</head>\n",
    "<body>\n",
    "    <p>{html_content}</p>\n",
    "</body>\n",
    "</html>\n",
    "\"\"\"\n",
    "\n",
    "# Optionally, you can save this HTML content to a file:\n",
    "with open(f\"{title}.html\", \"w\") as file:\n",
    "    file.write(html_content)\n",
    "\n",
    "print(\"HTML content created successfully.\")\n"
   ]
  }
 ],
 "metadata": {
  "kernelspec": {
   "display_name": "base",
   "language": "python",
   "name": "python3"
  },
  "language_info": {
   "codemirror_mode": {
    "name": "ipython",
    "version": 3
   },
   "file_extension": ".py",
   "mimetype": "text/x-python",
   "name": "python",
   "nbconvert_exporter": "python",
   "pygments_lexer": "ipython3",
   "version": "3.12.4"
  }
 },
 "nbformat": 4,
 "nbformat_minor": 2
}
