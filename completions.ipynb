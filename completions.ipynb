{
 "cells": [
  {
   "cell_type": "code",
   "execution_count": 172,
   "metadata": {},
   "outputs": [],
   "source": [
    "#MODEL = \"gpt-4o-2024-08-06\"\n",
    "#MODEL = \"gpt-4o-mini\"\n",
    "MODEL = \"gpt-3.5-turbo\"\n",
    "#prompt = [{\"role\": \"user\", \"content\": \"\"}]\n",
    "loops = 100\n",
    "file = f\"{MODEL}/alphabet/5\"\n",
    "\n",
    "import os\n",
    "from openai import OpenAI\n",
    "import pandas as pd\n",
    "from IPython.display import display_markdown\n",
    "import copy\n",
    "\n",
    "client = OpenAI()\n",
    "df_path = os.path.join(os.getcwd(),\"completions\")\n",
    "chat = False\n",
    "\n",
    "\n",
    "def transform_roles(chat,assistant_transform_type = \"user-assistant\"):\n",
    "    prompt_messages = copy.deepcopy(chat)\n",
    "    if assistant_transform_type == \"user-assistant\":\n",
    "      i = 1\n",
    "      while i <= len(prompt_messages) and prompt_messages[-i][\"role\"] != \"system\":\n",
    "        if i%2 == 1:\n",
    "          prompt_messages[-i][\"role\"] = \"user\"\n",
    "        else:\n",
    "          prompt_messages[-i][\"role\"] = \"assistant\"\n",
    "        i += 1\n",
    "    else:\n",
    "      for prompt_message in prompt_messages:\n",
    "        if prompt_message[\"role\"] == \"assistant\":\n",
    "          prompt_message[\"role\"] = assistant_transform_type\n",
    "    return prompt_messages"
   ]
  },
  {
   "cell_type": "code",
   "execution_count": 173,
   "metadata": {},
   "outputs": [
    {
     "name": "stdout",
     "output_type": "stream",
     "text": [
      "Empty DataFrame\n",
      "Columns: [Response, Eval, Data, Instruction]\n",
      "Index: []\n"
     ]
    }
   ],
   "source": [
    "# Load completions from json, if continuing with a file generated in the past\n",
    "\n",
    "try:\n",
    "    with open(os.path.join(df_path,file), \"r\") as f:\n",
    "        completions = pd.read_json(f, lines=True)\n",
    "\n",
    "# If not, create a new completions database\n",
    "\n",
    "except FileNotFoundError:\n",
    "    completions = pd.DataFrame([],columns=['Response', 'Eval', 'Data', 'Instruction'])\n",
    "    print(completions)"
   ]
  },
  {
   "cell_type": "code",
   "execution_count": 174,
   "metadata": {},
   "outputs": [],
   "source": [
    "for i in range(loops):\n",
    "    completion = client.chat.completions.create(\n",
    "        messages = prompt,\n",
    "        model = MODEL,\n",
    "        )\n",
    "    response = completion.choices[0].message.content\n",
    "\n",
    "    data = {'Response': response, 'Eval': \"\", 'Data': {}, 'Instruction': prompt}\n",
    "    data = pd.DataFrame([data])\n",
    "    data.at[0, \"Data\"] = {\"Completion\":completion.to_dict()}\n",
    "    completions = pd.concat([completions, data],ignore_index=True)\n",
    "    completions.to_json(os.path.join(df_path, file), lines=True, orient=\"records\")"
   ]
  },
  {
   "cell_type": "code",
   "execution_count": 175,
   "metadata": {},
   "outputs": [
    {
     "data": {
      "text/html": [
       "<div>\n",
       "<style scoped>\n",
       "    .dataframe tbody tr th:only-of-type {\n",
       "        vertical-align: middle;\n",
       "    }\n",
       "\n",
       "    .dataframe tbody tr th {\n",
       "        vertical-align: top;\n",
       "    }\n",
       "\n",
       "    .dataframe thead th {\n",
       "        text-align: right;\n",
       "    }\n",
       "</style>\n",
       "<table border=\"1\" class=\"dataframe\">\n",
       "  <thead>\n",
       "    <tr style=\"text-align: right;\">\n",
       "      <th></th>\n",
       "      <th>Response</th>\n",
       "      <th>Eval</th>\n",
       "      <th>Data</th>\n",
       "      <th>Instruction</th>\n",
       "    </tr>\n",
       "  </thead>\n",
       "  <tbody>\n",
       "    <tr>\n",
       "      <th>0</th>\n",
       "      <td>\\n\\nAdditionally, attending tech conferences, ...</td>\n",
       "      <td></td>\n",
       "      <td>{'Completion': {'id': 'chatcmpl-9wmZ2v9gffVICj...</td>\n",
       "      <td>[{'role': 'user', 'content': 'Stay up to date ...</td>\n",
       "    </tr>\n",
       "    <tr>\n",
       "      <th>1</th>\n",
       "      <td>\\n\\nSome popular tech blogs to follow include ...</td>\n",
       "      <td></td>\n",
       "      <td>{'Completion': {'id': 'chatcmpl-9wmZ5rNBJKJDwM...</td>\n",
       "      <td>[{'role': 'user', 'content': 'Stay up to date ...</td>\n",
       "    </tr>\n",
       "    <tr>\n",
       "      <th>2</th>\n",
       "      <td>Some popular tech blogs and websites to follow...</td>\n",
       "      <td></td>\n",
       "      <td>{'Completion': {'id': 'chatcmpl-9wmZ7LLNzYsc2h...</td>\n",
       "      <td>[{'role': 'user', 'content': 'Stay up to date ...</td>\n",
       "    </tr>\n",
       "    <tr>\n",
       "      <th>3</th>\n",
       "      <td>Some ways to stay up to date with tech trends ...</td>\n",
       "      <td></td>\n",
       "      <td>{'Completion': {'id': 'chatcmpl-9wmZAbqu5OLmy6...</td>\n",
       "      <td>[{'role': 'user', 'content': 'Stay up to date ...</td>\n",
       "    </tr>\n",
       "    <tr>\n",
       "      <th>4</th>\n",
       "      <td>Some popular tech blogs to follow include Tech...</td>\n",
       "      <td></td>\n",
       "      <td>{'Completion': {'id': 'chatcmpl-9wmZCiMAqENGWf...</td>\n",
       "      <td>[{'role': 'user', 'content': 'Stay up to date ...</td>\n",
       "    </tr>\n",
       "    <tr>\n",
       "      <th>...</th>\n",
       "      <td>...</td>\n",
       "      <td>...</td>\n",
       "      <td>...</td>\n",
       "      <td>...</td>\n",
       "    </tr>\n",
       "    <tr>\n",
       "      <th>95</th>\n",
       "      <td>Additionally, attending technology conferences...</td>\n",
       "      <td></td>\n",
       "      <td>{'Completion': {'id': 'chatcmpl-9wmcebKVPpbyX7...</td>\n",
       "      <td>[{'role': 'user', 'content': 'Stay up to date ...</td>\n",
       "    </tr>\n",
       "    <tr>\n",
       "      <th>96</th>\n",
       "      <td>Additionally, attending tech conferences and s...</td>\n",
       "      <td></td>\n",
       "      <td>{'Completion': {'id': 'chatcmpl-9wmcguwws3Hw9E...</td>\n",
       "      <td>[{'role': 'user', 'content': 'Stay up to date ...</td>\n",
       "    </tr>\n",
       "    <tr>\n",
       "      <th>97</th>\n",
       "      <td>\\n\\nAdditionally, attending tech events, confe...</td>\n",
       "      <td></td>\n",
       "      <td>{'Completion': {'id': 'chatcmpl-9wmcizkG3AqW8V...</td>\n",
       "      <td>[{'role': 'user', 'content': 'Stay up to date ...</td>\n",
       "    </tr>\n",
       "    <tr>\n",
       "      <th>98</th>\n",
       "      <td>\\n\\nAdditionally, attending industry conferenc...</td>\n",
       "      <td></td>\n",
       "      <td>{'Completion': {'id': 'chatcmpl-9wmckmUh1b7xo4...</td>\n",
       "      <td>[{'role': 'user', 'content': 'Stay up to date ...</td>\n",
       "    </tr>\n",
       "    <tr>\n",
       "      <th>99</th>\n",
       "      <td>\\n\\nAdditionally, attending industry conferenc...</td>\n",
       "      <td></td>\n",
       "      <td>{'Completion': {'id': 'chatcmpl-9wmcmYLco1hx30...</td>\n",
       "      <td>[{'role': 'user', 'content': 'Stay up to date ...</td>\n",
       "    </tr>\n",
       "  </tbody>\n",
       "</table>\n",
       "<p>100 rows × 4 columns</p>\n",
       "</div>"
      ],
      "text/plain": [
       "                                             Response Eval  \\\n",
       "0   \\n\\nAdditionally, attending tech conferences, ...        \n",
       "1   \\n\\nSome popular tech blogs to follow include ...        \n",
       "2   Some popular tech blogs and websites to follow...        \n",
       "3   Some ways to stay up to date with tech trends ...        \n",
       "4   Some popular tech blogs to follow include Tech...        \n",
       "..                                                ...  ...   \n",
       "95  Additionally, attending technology conferences...        \n",
       "96  Additionally, attending tech conferences and s...        \n",
       "97  \\n\\nAdditionally, attending tech events, confe...        \n",
       "98  \\n\\nAdditionally, attending industry conferenc...        \n",
       "99  \\n\\nAdditionally, attending industry conferenc...        \n",
       "\n",
       "                                                 Data  \\\n",
       "0   {'Completion': {'id': 'chatcmpl-9wmZ2v9gffVICj...   \n",
       "1   {'Completion': {'id': 'chatcmpl-9wmZ5rNBJKJDwM...   \n",
       "2   {'Completion': {'id': 'chatcmpl-9wmZ7LLNzYsc2h...   \n",
       "3   {'Completion': {'id': 'chatcmpl-9wmZAbqu5OLmy6...   \n",
       "4   {'Completion': {'id': 'chatcmpl-9wmZCiMAqENGWf...   \n",
       "..                                                ...   \n",
       "95  {'Completion': {'id': 'chatcmpl-9wmcebKVPpbyX7...   \n",
       "96  {'Completion': {'id': 'chatcmpl-9wmcguwws3Hw9E...   \n",
       "97  {'Completion': {'id': 'chatcmpl-9wmcizkG3AqW8V...   \n",
       "98  {'Completion': {'id': 'chatcmpl-9wmckmUh1b7xo4...   \n",
       "99  {'Completion': {'id': 'chatcmpl-9wmcmYLco1hx30...   \n",
       "\n",
       "                                          Instruction  \n",
       "0   [{'role': 'user', 'content': 'Stay up to date ...  \n",
       "1   [{'role': 'user', 'content': 'Stay up to date ...  \n",
       "2   [{'role': 'user', 'content': 'Stay up to date ...  \n",
       "3   [{'role': 'user', 'content': 'Stay up to date ...  \n",
       "4   [{'role': 'user', 'content': 'Stay up to date ...  \n",
       "..                                                ...  \n",
       "95  [{'role': 'user', 'content': 'Stay up to date ...  \n",
       "96  [{'role': 'user', 'content': 'Stay up to date ...  \n",
       "97  [{'role': 'user', 'content': 'Stay up to date ...  \n",
       "98  [{'role': 'user', 'content': 'Stay up to date ...  \n",
       "99  [{'role': 'user', 'content': 'Stay up to date ...  \n",
       "\n",
       "[100 rows x 4 columns]"
      ]
     },
     "execution_count": 175,
     "metadata": {},
     "output_type": "execute_result"
    }
   ],
   "source": [
    "completions"
   ]
  },
  {
   "cell_type": "code",
   "execution_count": 169,
   "metadata": {},
   "outputs": [
    {
     "data": {
      "text/plain": [
       "Response       Stay up to date with trends in technology by f...\n",
       "Eval                                                        Best\n",
       "Data           {'Completion': {'id': 'chatcmpl-9wmJ6YRXimFRfp...\n",
       "Instruction    [{'role': 'user', 'content': '\n",
       "\n",
       "Ultimately, st...\n",
       "Name: 80, dtype: object"
      ]
     },
     "execution_count": 169,
     "metadata": {},
     "output_type": "execute_result"
    }
   ],
   "source": [
    "n = 80\n",
    "completions.iloc[n]"
   ]
  },
  {
   "cell_type": "code",
   "execution_count": 168,
   "metadata": {},
   "outputs": [],
   "source": [
    "completions.loc[n,\"Eval\"] = \"Best\"\n",
    "completions.to_json(os.path.join(df_path, file), lines=True, orient=\"records\")"
   ]
  },
  {
   "cell_type": "code",
   "execution_count": 170,
   "metadata": {},
   "outputs": [
    {
     "name": "stdout",
     "output_type": "stream",
     "text": [
      "[{'role': 'user', 'content': \"Stay up to date with trends in technology by following tech blogs, subscribing to newsletters, and networking with industry professionals. It's also crucial to be willing to experiment with new technologies and be open to embracing change in order to stay relevant and innovative in today's fast-paced global market. By staying informed, adaptable, and forward-thinking, individuals and businesses can thrive in an ever-evolving technological world.\"}]\n"
     ]
    }
   ],
   "source": [
    "tag = \"Best\"\n",
    "selected_response = completions[completions[\"Eval\"].apply(lambda x: x.startswith(tag))].iloc[0][\"Response\"]\n",
    "if chat:\n",
    "    messages = copy.deepcopy(completions[completions[\"Eval\"].apply(lambda x: x.startswith(tag))].iloc[0][\"Instruction\"])\n",
    "    messages.append({\"role\": \"assistant\", \"content\": selected_response_response})\n",
    "    prompt = transform_roles(messages)\n",
    "else:\n",
    "    prompt = [{\"role\": \"user\", \"content\": selected_response}]\n",
    "print(prompt)"
   ]
  }
 ],
 "metadata": {
  "kernelspec": {
   "display_name": "base",
   "language": "python",
   "name": "python3"
  },
  "language_info": {
   "codemirror_mode": {
    "name": "ipython",
    "version": 3
   },
   "file_extension": ".py",
   "mimetype": "text/x-python",
   "name": "python",
   "nbconvert_exporter": "python",
   "pygments_lexer": "ipython3",
   "version": "3.12.4"
  }
 },
 "nbformat": 4,
 "nbformat_minor": 2
}
