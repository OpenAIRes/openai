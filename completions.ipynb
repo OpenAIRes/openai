{
 "cells": [
  {
   "cell_type": "code",
   "execution_count": 14,
   "metadata": {},
   "outputs": [],
   "source": [
    "model = \"gpt-3.5-turbo\"\n",
    "prompt = [{\"role\": \"user\", \"content\": \"\"}]\n",
    "loops = 2\n",
    "file_name = \"dataset\"\n",
    "\n",
    "import os\n",
    "from openai import OpenAI\n",
    "import pandas as pd\n",
    "from IPython.display import display_markdown\n",
    "\n",
    "client = OpenAI()\n",
    "\n",
    "# Paths. Assuming this notebook is in examples/\n",
    "\n",
    "evals_path = os.path.join(os.getcwd(), \"..\", \"evals\")\n",
    "df_path = os.path.join(evals_path, \"evallogs\", \"df\")\n",
    "os.makedirs(df_path, exist_ok=True)\n",
    "dataset_path = os.path.join(df_path, file_name) "
   ]
  },
  {
   "cell_type": "code",
   "execution_count": 15,
   "metadata": {},
   "outputs": [],
   "source": [
    "dataset = pd.DataFrame([],columns=['Response', 'Eval', 'Data', 'Instruction'])"
   ]
  },
  {
   "cell_type": "code",
   "execution_count": 16,
   "metadata": {},
   "outputs": [
    {
     "data": {
      "text/html": [
       "<div>\n",
       "<style scoped>\n",
       "    .dataframe tbody tr th:only-of-type {\n",
       "        vertical-align: middle;\n",
       "    }\n",
       "\n",
       "    .dataframe tbody tr th {\n",
       "        vertical-align: top;\n",
       "    }\n",
       "\n",
       "    .dataframe thead th {\n",
       "        text-align: right;\n",
       "    }\n",
       "</style>\n",
       "<table border=\"1\" class=\"dataframe\">\n",
       "  <thead>\n",
       "    <tr style=\"text-align: right;\">\n",
       "      <th></th>\n",
       "      <th>Response</th>\n",
       "      <th>Eval</th>\n",
       "      <th>Data</th>\n",
       "      <th>Instruction</th>\n",
       "    </tr>\n",
       "  </thead>\n",
       "  <tbody>\n",
       "  </tbody>\n",
       "</table>\n",
       "</div>"
      ],
      "text/plain": [
       "Empty DataFrame\n",
       "Columns: [Response, Eval, Data, Instruction]\n",
       "Index: []"
      ]
     },
     "execution_count": 16,
     "metadata": {},
     "output_type": "execute_result"
    }
   ],
   "source": [
    "dataset"
   ]
  },
  {
   "cell_type": "code",
   "execution_count": 17,
   "metadata": {},
   "outputs": [],
   "source": [
    "for i in range(loops):\n",
    "    completion = client.chat.completions.create(\n",
    "        messages = prompt,\n",
    "        model = model,\n",
    "        )\n",
    "    response = completion.choices[0].message.content\n",
    "\n",
    "    data = {'Response': response, 'Eval': \"\", 'Data': {}, 'Instruction': prompt}\n",
    "    data = pd.DataFrame([data])\n",
    "    data.at[0, \"Data\"] = {\"Completion\":completion.to_dict()}\n",
    "    dataset = pd.concat([dataset, data],ignore_index=True)\n",
    "    dataset.to_json(os.path.join(df_path, \"dataset\"), lines=True, orient=\"records\")"
   ]
  },
  {
   "cell_type": "code",
   "execution_count": 19,
   "metadata": {},
   "outputs": [
    {
     "data": {
      "text/plain": [
       "{'Completion': {'id': 'chatcmpl-9wGBDKnNPPJFR6Y0J5klKJwnitnur',\n",
       "  'choices': [{'finish_reason': 'stop',\n",
       "    'index': 0,\n",
       "    'logprobs': None,\n",
       "    'message': {'content': 'Hello! How may I assist you today?',\n",
       "     'role': 'assistant',\n",
       "     'refusal': None}}],\n",
       "  'created': 1723672247,\n",
       "  'model': 'gpt-3.5-turbo-0125',\n",
       "  'object': 'chat.completion',\n",
       "  'system_fingerprint': None,\n",
       "  'usage': {'completion_tokens': 9, 'prompt_tokens': 7, 'total_tokens': 16}}}"
      ]
     },
     "execution_count": 19,
     "metadata": {},
     "output_type": "execute_result"
    }
   ],
   "source": [
    "dataset.iloc[0][\"Data\"]"
   ]
  }
 ],
 "metadata": {
  "kernelspec": {
   "display_name": "base",
   "language": "python",
   "name": "python3"
  },
  "language_info": {
   "codemirror_mode": {
    "name": "ipython",
    "version": 3
   },
   "file_extension": ".py",
   "mimetype": "text/x-python",
   "name": "python",
   "nbconvert_exporter": "python",
   "pygments_lexer": "ipython3",
   "version": "3.12.4"
  }
 },
 "nbformat": 4,
 "nbformat_minor": 2
}
