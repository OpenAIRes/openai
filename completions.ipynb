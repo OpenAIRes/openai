{
 "cells": [
  {
   "cell_type": "code",
   "execution_count": 68,
   "metadata": {},
   "outputs": [],
   "source": [
    "MODEL = \"gpt-4o-2024-08-06\"\n",
    "#MODEL = \"gpt-4o-mini\"\n",
    "#MODEL = \"gpt-3.5-turbo\"\n",
    "#prompt = [{\"role\": \"user\", \"content\": \"\"}]\n",
    "loops = 1\n",
    "#temperature = 1.5\n",
    "#file = f\"{MODEL}/single message/2\" #alphabet/5\"\n",
    "file = \"best chat\"\n",
    "\n",
    "import os\n",
    "from openai import OpenAI\n",
    "import pandas as pd\n",
    "from IPython.display import display_markdown\n",
    "import copy\n",
    "\n",
    "client = OpenAI()\n",
    "df_path = os.getcwd()\n",
    "chat = False\n",
    "\n",
    "\n",
    "def transform_roles(chat,assistant_transform_type = \"user-assistant\"):\n",
    "    prompt_messages = copy.deepcopy(chat)\n",
    "    if assistant_transform_type == \"user-assistant\":\n",
    "      i = 1\n",
    "      while i <= len(prompt_messages) and prompt_messages[-i][\"role\"] != \"system\":\n",
    "        if i%2 == 1:\n",
    "          prompt_messages[-i][\"role\"] = \"user\"\n",
    "        else:\n",
    "          prompt_messages[-i][\"role\"] = \"assistant\"\n",
    "        i += 1\n",
    "    else:\n",
    "      for prompt_message in prompt_messages:\n",
    "        if prompt_message[\"role\"] == \"assistant\":\n",
    "          prompt_message[\"role\"] = assistant_transform_type\n",
    "    return prompt_messages\n",
    "def load (path):\n",
    "    with open(path, \"r\") as f:\n",
    "        completions = pd.read_json(f, lines=True)\n",
    "    return completions"
   ]
  },
  {
   "cell_type": "code",
   "execution_count": 12,
   "metadata": {},
   "outputs": [],
   "source": [
    "#completions = load(\"completions/gpt-3.5-turbo/alphabet/5\")\n",
    "#completions"
   ]
  },
  {
   "cell_type": "code",
   "execution_count": 36,
   "metadata": {},
   "outputs": [
    {
     "name": "stdout",
     "output_type": "stream",
     "text": [
      "Empty DataFrame\n",
      "Columns: [Response, Eval, Data, Instruction]\n",
      "Index: []\n"
     ]
    }
   ],
   "source": [
    "# Load completions from json, if continuing with a file generated in the past\n",
    "\n",
    "try:\n",
    "    with open(os.path.join(df_path,file), \"r\") as f:\n",
    "        completions = pd.read_json(f, lines=True)\n",
    "\n",
    "# If not, create a new completions database\n",
    "\n",
    "except FileNotFoundError:\n",
    "    completions = pd.DataFrame([],columns=['Response', 'Eval', 'Data', 'Instruction'])\n",
    "    print(completions)"
   ]
  },
  {
   "cell_type": "code",
   "execution_count": 37,
   "metadata": {},
   "outputs": [
    {
     "data": {
      "text/plain": [
       "[{'role': 'assistant', 'content': ''},\n",
       " {'role': 'user', 'content': 'Hello! How can I assist you today?'}]"
      ]
     },
     "execution_count": 37,
     "metadata": {},
     "output_type": "execute_result"
    }
   ],
   "source": [
    "prompt"
   ]
  },
  {
   "cell_type": "code",
   "execution_count": 39,
   "metadata": {},
   "outputs": [],
   "source": [
    "for i in range(loops):\n",
    "    completion = client.chat.completions.create(\n",
    "        messages = prompt,\n",
    "        #temperature = temperature,\n",
    "        model = MODEL,\n",
    "        )\n",
    "    response = completion.choices[0].message.content\n",
    "\n",
    "    data = {'Response': response, 'Eval': \"\", 'Data': {}, 'Instruction': prompt}\n",
    "    data = pd.DataFrame([data])\n",
    "    data.at[0, \"Data\"] = {\"Completion\":completion.to_dict()}\n",
    "    completions = pd.concat([completions, data],ignore_index=True)\n",
    "    completions.to_json(os.path.join(df_path, file), lines=True, orient=\"records\")"
   ]
  },
  {
   "cell_type": "code",
   "execution_count": 66,
   "metadata": {},
   "outputs": [],
   "source": [
    "completions.to_json(os.path.join(df_path, file), lines=True, orient=\"records\")"
   ]
  },
  {
   "cell_type": "code",
   "execution_count": 44,
   "metadata": {},
   "outputs": [],
   "source": [
    "completions = load(\"completions/gpt-3.5-turbo/1\")"
   ]
  },
  {
   "cell_type": "code",
   "execution_count": 57,
   "metadata": {},
   "outputs": [],
   "source": [
    "completions_old = load(\"completions/gpt-3.5-turbo/alphabet/6\")"
   ]
  },
  {
   "cell_type": "code",
   "execution_count": 58,
   "metadata": {},
   "outputs": [],
   "source": [
    "completions = pd.concat([completions, completions_old],ignore_index=True)"
   ]
  },
  {
   "cell_type": "code",
   "execution_count": 80,
   "metadata": {},
   "outputs": [],
   "source": [
    "level = completions.iloc[400:500]"
   ]
  },
  {
   "cell_type": "code",
   "execution_count": 73,
   "metadata": {},
   "outputs": [
    {
     "data": {
      "text/html": [
       "<div>\n",
       "<style scoped>\n",
       "    .dataframe tbody tr th:only-of-type {\n",
       "        vertical-align: middle;\n",
       "    }\n",
       "\n",
       "    .dataframe tbody tr th {\n",
       "        vertical-align: top;\n",
       "    }\n",
       "\n",
       "    .dataframe thead th {\n",
       "        text-align: right;\n",
       "    }\n",
       "</style>\n",
       "<table border=\"1\" class=\"dataframe\">\n",
       "  <thead>\n",
       "    <tr style=\"text-align: right;\">\n",
       "      <th></th>\n",
       "      <th>Response</th>\n",
       "      <th>Eval</th>\n",
       "      <th>Data</th>\n",
       "      <th>Instruction</th>\n",
       "    </tr>\n",
       "  </thead>\n",
       "  <tbody>\n",
       "    <tr>\n",
       "      <th>100</th>\n",
       "      <td>Hello! I'm here to help with any questions or ...</td>\n",
       "      <td></td>\n",
       "      <td>{'Completion': {'id': 'chatcmpl-9wVm1lJJz83ono...</td>\n",
       "      <td>[{'role': 'user', 'content': 'Hello! How can I...</td>\n",
       "    </tr>\n",
       "    <tr>\n",
       "      <th>101</th>\n",
       "      <td>Hello! I'm here to answer any questions you ma...</td>\n",
       "      <td></td>\n",
       "      <td>{'Completion': {'id': 'chatcmpl-9wVm2zeUTXULrQ...</td>\n",
       "      <td>[{'role': 'user', 'content': 'Hello! How can I...</td>\n",
       "    </tr>\n",
       "    <tr>\n",
       "      <th>102</th>\n",
       "      <td>Hello! I'm just here to help with any question...</td>\n",
       "      <td></td>\n",
       "      <td>{'Completion': {'id': 'chatcmpl-9wVm371Ft0IgMj...</td>\n",
       "      <td>[{'role': 'user', 'content': 'Hello! How can I...</td>\n",
       "    </tr>\n",
       "    <tr>\n",
       "      <th>103</th>\n",
       "      <td>I'm an AI digital assistant here to help you w...</td>\n",
       "      <td></td>\n",
       "      <td>{'Completion': {'id': 'chatcmpl-9wVm37GeVe3Pt3...</td>\n",
       "      <td>[{'role': 'user', 'content': 'Hello! How can I...</td>\n",
       "    </tr>\n",
       "    <tr>\n",
       "      <th>104</th>\n",
       "      <td>Hello! I am an AI assistant here to help answe...</td>\n",
       "      <td></td>\n",
       "      <td>{'Completion': {'id': 'chatcmpl-9wVm4yX65qO8TO...</td>\n",
       "      <td>[{'role': 'user', 'content': 'Hello! How can I...</td>\n",
       "    </tr>\n",
       "    <tr>\n",
       "      <th>...</th>\n",
       "      <td>...</td>\n",
       "      <td>...</td>\n",
       "      <td>...</td>\n",
       "      <td>...</td>\n",
       "    </tr>\n",
       "    <tr>\n",
       "      <th>195</th>\n",
       "      <td>Hello! I am here to help answer any questions ...</td>\n",
       "      <td></td>\n",
       "      <td>{'Completion': {'id': 'chatcmpl-9wVnXdh9q3hKls...</td>\n",
       "      <td>[{'role': 'user', 'content': 'Hello! How can I...</td>\n",
       "    </tr>\n",
       "    <tr>\n",
       "      <th>196</th>\n",
       "      <td>Hello! I am an AI digital assistant here to he...</td>\n",
       "      <td></td>\n",
       "      <td>{'Completion': {'id': 'chatcmpl-9wVnYokWwtpB5Q...</td>\n",
       "      <td>[{'role': 'user', 'content': 'Hello! How can I...</td>\n",
       "    </tr>\n",
       "    <tr>\n",
       "      <th>197</th>\n",
       "      <td>Hello! I'm here to assist you with any questio...</td>\n",
       "      <td></td>\n",
       "      <td>{'Completion': {'id': 'chatcmpl-9wVnZZxn3qLKLj...</td>\n",
       "      <td>[{'role': 'user', 'content': 'Hello! How can I...</td>\n",
       "    </tr>\n",
       "    <tr>\n",
       "      <th>198</th>\n",
       "      <td>Hi there! I was just wondering if you could pr...</td>\n",
       "      <td></td>\n",
       "      <td>{'Completion': {'id': 'chatcmpl-9wVna05St8DYKj...</td>\n",
       "      <td>[{'role': 'user', 'content': 'Hello! How can I...</td>\n",
       "    </tr>\n",
       "    <tr>\n",
       "      <th>199</th>\n",
       "      <td>Hello! I don't need any assistance at the mome...</td>\n",
       "      <td></td>\n",
       "      <td>{'Completion': {'id': 'chatcmpl-9wVnbFnXhSqO5a...</td>\n",
       "      <td>[{'role': 'user', 'content': 'Hello! How can I...</td>\n",
       "    </tr>\n",
       "  </tbody>\n",
       "</table>\n",
       "<p>100 rows × 4 columns</p>\n",
       "</div>"
      ],
      "text/plain": [
       "                                              Response Eval  \\\n",
       "100  Hello! I'm here to help with any questions or ...        \n",
       "101  Hello! I'm here to answer any questions you ma...        \n",
       "102  Hello! I'm just here to help with any question...        \n",
       "103  I'm an AI digital assistant here to help you w...        \n",
       "104  Hello! I am an AI assistant here to help answe...        \n",
       "..                                                 ...  ...   \n",
       "195  Hello! I am here to help answer any questions ...        \n",
       "196  Hello! I am an AI digital assistant here to he...        \n",
       "197  Hello! I'm here to assist you with any questio...        \n",
       "198  Hi there! I was just wondering if you could pr...        \n",
       "199  Hello! I don't need any assistance at the mome...        \n",
       "\n",
       "                                                  Data  \\\n",
       "100  {'Completion': {'id': 'chatcmpl-9wVm1lJJz83ono...   \n",
       "101  {'Completion': {'id': 'chatcmpl-9wVm2zeUTXULrQ...   \n",
       "102  {'Completion': {'id': 'chatcmpl-9wVm371Ft0IgMj...   \n",
       "103  {'Completion': {'id': 'chatcmpl-9wVm37GeVe3Pt3...   \n",
       "104  {'Completion': {'id': 'chatcmpl-9wVm4yX65qO8TO...   \n",
       "..                                                 ...   \n",
       "195  {'Completion': {'id': 'chatcmpl-9wVnXdh9q3hKls...   \n",
       "196  {'Completion': {'id': 'chatcmpl-9wVnYokWwtpB5Q...   \n",
       "197  {'Completion': {'id': 'chatcmpl-9wVnZZxn3qLKLj...   \n",
       "198  {'Completion': {'id': 'chatcmpl-9wVna05St8DYKj...   \n",
       "199  {'Completion': {'id': 'chatcmpl-9wVnbFnXhSqO5a...   \n",
       "\n",
       "                                           Instruction  \n",
       "100  [{'role': 'user', 'content': 'Hello! How can I...  \n",
       "101  [{'role': 'user', 'content': 'Hello! How can I...  \n",
       "102  [{'role': 'user', 'content': 'Hello! How can I...  \n",
       "103  [{'role': 'user', 'content': 'Hello! How can I...  \n",
       "104  [{'role': 'user', 'content': 'Hello! How can I...  \n",
       "..                                                 ...  \n",
       "195  [{'role': 'user', 'content': 'Hello! How can I...  \n",
       "196  [{'role': 'user', 'content': 'Hello! How can I...  \n",
       "197  [{'role': 'user', 'content': 'Hello! How can I...  \n",
       "198  [{'role': 'user', 'content': 'Hello! How can I...  \n",
       "199  [{'role': 'user', 'content': 'Hello! How can I...  \n",
       "\n",
       "[100 rows x 4 columns]"
      ]
     },
     "execution_count": 73,
     "metadata": {},
     "output_type": "execute_result"
    }
   ],
   "source": [
    "level"
   ]
  },
  {
   "cell_type": "code",
   "execution_count": 24,
   "metadata": {},
   "outputs": [],
   "source": [
    "prompt = completions.iloc[n][\"Instruction\"]"
   ]
  },
  {
   "cell_type": "code",
   "execution_count": 25,
   "metadata": {},
   "outputs": [
    {
     "data": {
      "text/plain": [
       "[{'role': 'assistant', 'content': ''},\n",
       " {'role': 'user', 'content': 'Hello! How can I assist you today?'}]"
      ]
     },
     "execution_count": 25,
     "metadata": {},
     "output_type": "execute_result"
    }
   ],
   "source": [
    "prompt"
   ]
  },
  {
   "cell_type": "code",
   "execution_count": 76,
   "metadata": {},
   "outputs": [
    {
     "data": {
      "text/plain": [
       "Response       Hello! Can you provide me with information on ...\n",
       "Eval                                        First alphabetically\n",
       "Data           {'Completion': {'id': 'chatcmpl-9wVn0rcvWu1BR6...\n",
       "Instruction    [{'role': 'user', 'content': 'Hello! How can I...\n",
       "Name: 160, dtype: object"
      ]
     },
     "execution_count": 76,
     "metadata": {},
     "output_type": "execute_result"
    }
   ],
   "source": [
    "n = 160\n",
    "completions.iloc[n]"
   ]
  },
  {
   "cell_type": "code",
   "execution_count": 75,
   "metadata": {},
   "outputs": [
    {
     "name": "stdout",
     "output_type": "stream",
     "text": [
      "[{'role': 'user', 'content': 'Hello! Can you provide me with information on the latest technology trends?'}]\n"
     ]
    }
   ],
   "source": [
    "tag = \"First alphabetically\"\n",
    "completions.loc[n,\"Eval\"] = tag\n",
    "completions.to_json(os.path.join(df_path, file), lines=True, orient=\"records\")\n",
    "selected_response = completions[completions[\"Eval\"].apply(lambda x: x.startswith(tag))].iloc[0][\"Response\"]\n",
    "if chat:\n",
    "    messages = copy.deepcopy(completions[completions[\"Eval\"].apply(lambda x: x.startswith(tag))].iloc[0][\"Instruction\"])\n",
    "    messages.append({\"role\": \"assistant\", \"content\": selected_response_response})\n",
    "    prompt = transform_roles(messages)\n",
    "else:\n",
    "    prompt = [{\"role\": \"user\", \"content\": selected_response}]\n",
    "print(prompt)"
   ]
  }
 ],
 "metadata": {
  "kernelspec": {
   "display_name": "base",
   "language": "python",
   "name": "python3"
  },
  "language_info": {
   "codemirror_mode": {
    "name": "ipython",
    "version": 3
   },
   "file_extension": ".py",
   "mimetype": "text/x-python",
   "name": "python",
   "nbconvert_exporter": "python",
   "pygments_lexer": "ipython3",
   "version": "3.12.4"
  }
 },
 "nbformat": 4,
 "nbformat_minor": 2
}
