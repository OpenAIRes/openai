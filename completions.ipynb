{
 "cells": [
  {
   "cell_type": "code",
   "execution_count": 34,
   "metadata": {},
   "outputs": [
    {
     "name": "stdout",
     "output_type": "stream",
     "text": [
      "Prompt messages sent to OpenAI API:[{'role': 'user', 'content': '\\n16. The globalization of popular culture through the internet and social media has led to the sharing of ideas, trends, and influences on a global scale. This interconnectedness has allowed for the exchange of cultural practices and traditions, creating a more diverse and inclusive cultural landscape.\\n17. Popular culture can also act as a form of escapism for individuals, providing entertainment and distraction from the stresses and challenges of everyday life. Whether through music, movies, or video games, popular culture can serve as a form of entertainment that allows people to relax and unwind.\\n18. The rise of influencer culture within popular culture has transformed the way individuals consume content and make purchasing decisions. Influencers have the power to shape trends and influence consumer behavior, blurring the lines between advertising and entertainment.\\n19. The phenomenon of viral content within popular culture has the ability to reach millions of people in a short amount of time through social media platforms. Memes, challenges, and trends can spread rapidly, influencing and shaping the cultural conversation in real-time.\\n20. The intersection of popular culture and politics is increasingly evident, with celebrities using their platforms to advocate for social and political causes. The influence of popular culture on public opinion and activism has the potential to drive meaningful change and spark important conversations within society.'}]\n",
      "Prompt messages sent to OpenAI API:[{'role': 'user', 'content': '21. The democratization of popular culture through platforms like YouTube, TikTok, and Instagram has allowed individuals from diverse backgrounds to create and share their own content, challenging traditional media gatekeepers and amplifying voices that may have otherwise been marginalized.\\n22. Popular culture can also serve as a reflection of societal values and beliefs, providing a lens through which to examine and critique social issues such as race, gender, and class. Through music, film, and television, popular culture has the power to shape perceptions and bring attention to important social issues.\\n23. The influence of popular culture on fashion trends and beauty standards is undeniable, with celebrities and influencers often setting the agenda for what is considered stylish or desirable. This can have both positive and negative effects, as it can promote diversity and self-expression but also create unrealistic expectations and pressures.\\n24. Popular culture can play a significant role in shaping individual identity and fostering a sense of community and belonging. Shared interests in certain music, movies, or TV shows can create connections between people and serve as a form of cultural currency that allows for bonding and social interaction.\\n25. In an increasingly digital world, the convergence of popular culture with technology has revolutionized the way we consume and engage with content. From streaming services to virtual reality experiences, technology has transformed the entertainment industry and expanded the possibilities for immersive storytelling and interactive engagement.'}]\n",
      "Prompt messages sent to OpenAI API:[{'role': 'user', 'content': '\\n26. The globalization of popular culture has led to the spread of ideas, trends, and values across borders, creating a more interconnected and diverse world. Through the internet and social media, cultural products and practices from different parts of the world can easily be shared and appreciated by a global audience.\\n27. The commercialization of popular culture has resulted in the rise of \"fandom\" culture, where dedicated fans of a particular movie, TV show, or celebrity come together to celebrate and engage with their shared passion. Fandom communities can be a source of creativity, support, and camaraderie for individuals who find connection and belonging through their shared interests.\\n28. Popular culture can also serve as a form of escapism and entertainment, providing a temporary reprieve from the stresses and challenges of everyday life. Whether through music, art, or literature, popular culture can transport audiences to different worlds and inspire imagination and creativity.\\n29. The evolution of popular culture is constantly influenced by technological advancements, social movements, and shifting cultural norms. As society evolves, so too does popular culture, reflecting the changing attitudes, values, and concerns of contemporary society.\\n30. Ultimately, popular culture is a powerful force that shapes our world, influencing the way we think, feel, and interact with one another. By studying and engaging with popular culture, we can gain insights into the collective consciousness of society and better understand the complex interplay between culture, media, and identity.'}]\n",
      "Prompt messages sent to OpenAI API:[{'role': 'user', 'content': '\\n31. Popular culture can also be a form of resistance and activism, with artists and creators using their platforms to challenge dominant narratives and bring attention to social and political issues. Through music, film, and other forms of media, popular culture can spark conversations and inspire change.\\n32. Popular culture has the ability to break down barriers and foster a sense of unity and solidarity among diverse groups of people. Through shared cultural experiences and references, individuals can find common ground and build connections that transcend geographic and societal boundaries.\\n33. The democratization of popular culture through platforms like YouTube, TikTok, and streaming services has given a voice to individuals who may not have had access to traditional forms of media. This has allowed for a more diverse range of perspectives and stories to be shared and celebrated.\\n34. Popular culture can also play a role in shaping our personal identities and sense of self. The media we consume and the cultural products we engage with can influence our beliefs, values, and perceptions of the world around us, impacting how we see ourselves and our place in society.\\n35. In a rapidly changing world, popular culture serves as a reflection of our collective experiences and emotions, capturing the zeitgeist of a particular moment in time. By examining the trends and themes prevalent in popular culture, we can gain a deeper understanding of the societal dynamics at play and how they shape our individual and collective identities.'}]\n",
      "Prompt messages sent to OpenAI API:[{'role': 'user', 'content': '\\n36. Popular culture often serves as a form of escapism and entertainment, providing individuals with a temporary refuge from the challenges and stress of everyday life. Whether through movies, TV shows, music, or other forms of media, popular culture offers moments of joy and relief that allow us to recharge and reset.\\n37. Popular culture has the power to challenge societal norms and stereotypes, promoting diversity and inclusivity in mainstream media. By representing underrepresented groups and highlighting their stories, popular culture can promote empathy, understanding, and acceptance among audiences.\\n38. Popular culture can act as a catalyst for social change by raising awareness of important issues and inspiring individuals to take action. Through powerful storytelling and compelling narratives, popular culture can mobilize communities and drive positive change in the world.\\n39. The globalization of popular culture has created opportunities for cross-cultural exchange and understanding, as individuals from different parts of the world can connect over shared interests and experiences. Through the dissemination of popular cultural products, people can learn about and appreciate diverse cultures and perspectives.\\n40. Ultimately, popular culture is a dynamic and ever-evolving force that shapes our society and influences our individual and collective identities. By engaging with popular culture critically and reflectively, we can harness its power to create positive change and foster a more inclusive and empathetic world.'}]\n",
      "Prompt messages sent to OpenAI API:[{'role': 'user', 'content': '\\n41. Popular culture can also play a role in shaping our personal preferences, values, and beliefs. The media we consume and the celebrities we admire can influence our attitudes towards various issues, shaping our cultural and social identity.\\n42. In addition, popular culture can serve as a platform for self-expression and creativity, allowing individuals to explore their own identities and share their unique perspectives with the world. Whether through art, fashion, or social media, popular culture provides a space for individuals to express themselves and connect with like-minded individuals.\\n43. Popular culture can also have a significant impact on the economy, as industries such as film, music, fashion, and technology generate billions of dollars in revenue each year. The popularity of certain trends and products in popular culture can drive consumer behavior and influence market trends.\\n44. However, popular culture is not without its criticisms, as some argue that it can perpetuate harmful stereotypes, promote consumerism, and prioritize profit over social responsibility. It is important for consumers to be critical of the messages and values promoted in popular culture and to advocate for more diverse and inclusive representations.\\n45. Overall, popular culture is a complex and multifaceted phenomenon that reflects and influences our society in a variety of ways. By engaging with popular culture thoughtfully and consciously, we can harness its potential to inspire, educate, and empower individuals to create positive change in the world.'}]\n",
      "Prompt messages sent to OpenAI API:[{'role': 'user', 'content': \"\\n46. It is essential for individuals to recognize the power that popular culture holds and to be mindful of the messages it conveys. By consuming media and engaging with popular culture in a critical and discerning manner, we can challenge harmful narratives, support positive representations, and contribute to a more inclusive and equitable society.\\n47. Furthermore, popular culture has the ability to bring people together, fostering a sense of community and shared experience. Whether through attending concerts, participating in fan communities, or discussing the latest trends on social media, popular culture has the capacity to create connections and build relationships among individuals from diverse backgrounds.\\n48. As technology continues to evolve and new forms of media emerge, the landscape of popular culture is constantly shifting and expanding. It is important for individuals to stay informed about current trends and developments in order to fully engage with and understand the complexities of popular culture in today's society.\\n49. Ultimately, popular culture plays a crucial role in shaping our perceptions, attitudes, and behaviors. By actively participating in and contributing to popular culture in a thoughtful and intentional manner, we can harness its potential to inspire positive change and foster a more inclusive and accepting world for all.\"}]\n",
      "Prompt messages sent to OpenAI API:[{'role': 'user', 'content': \"50. In conclusion, popular culture is a powerful force that influences our daily lives in numerous ways. By being thoughtful and critical consumers of media, actively participating in cultural discussions, and promoting positive representations, we can harness the potential of popular culture to create a more diverse, inclusive, and equitable society for all. Let us embrace the opportunities that popular culture presents to us and work towards a future where everyone's voices and experiences are valued and celebrated.\"}]\n"
     ]
    }
   ],
   "source": [
    "from openai import OpenAI\n",
    "import os\n",
    "import json\n",
    "import pandas as pd\n",
    "from IPython.display import display_markdown\n",
    "\n",
    "client = OpenAI()\n",
    "\n",
    "# Set parameters\n",
    "\n",
    "name = \"1\"\n",
    "model = \"gpt-3.5-turbo\"               # important options: \"gpt-4o-mini\", \"gpt-4o\", \"gpt-3.5-turbo\"\n",
    "loops = 1\n",
    "memory = 1\n",
    "stable_system_message = False\n",
    "assistant_transform = False    \n",
    "assistant_transform_type = \"user\"     # options: \"user\", \"user-assistant\", \"system\"\n",
    "stream = False\n",
    "\n",
    "first_prompt = [\n",
    "  #{\"role\": \"system\", \"content\": \"\"},\n",
    "  {\"role\": \"user\", \"content\": \"\"}\n",
    "]\n",
    "\n",
    "# Choose or create the right folder with json files\n",
    "\n",
    "folder_name = f\"{model} memory-{memory}\"\n",
    "if assistant_transform:\n",
    "  folder_name += f\" {assistant_transform_type}\"\n",
    "os.makedirs(folder_name, exist_ok=True)\n",
    "\n",
    "for loop in range(loops):\n",
    "\n",
    "  # Load completions from json, if continuing with a file generated in the past\n",
    "\n",
    "  try:\n",
    "    with open(f\"{folder_name}/{name}.json\", \"r\") as json_file:\n",
    "      completions=json.load(json_file)\n",
    "\n",
    "  # If not, create a new completions database\n",
    "\n",
    "  except FileNotFoundError:\n",
    "    completions = []\n",
    "\n",
    "  # Collect messages generated so far\n",
    "\n",
    "  messages = first_prompt\n",
    "  for completion in completions:\n",
    "      message = completion[\"choices\"][0][\"message\"]\n",
    "      messages.append({\"role\": message[\"role\"], \"content\": message[\"content\"]}   \n",
    "      )\n",
    "\n",
    "  # Pick prompt messages\n",
    "\n",
    "  if memory >= len(messages):\n",
    "      prompt_messages = messages\n",
    "  else:\n",
    "      #print(f\"Memory smaller than the entire conversation. Forgetting {len(messages)-memory} messages\")\n",
    "      prompt_messages = []\n",
    "      if stable_system_message:\n",
    "        prompt_messages.append(first_prompt[0])\n",
    "        print(prompt_messages)\n",
    "        print(\"stable_system_message\")\n",
    "      prompt_messages = prompt_messages+messages[(len(messages)-memory):]\n",
    "\n",
    "  # Transform assistant role to assistant and user, user, or system roles\n",
    "\n",
    "  if assistant_transform:\n",
    "    if assistant_transform_type == \"user-assistant\":\n",
    "      i = 1\n",
    "      while i <= len(prompt_messages):\n",
    "        if prompt_messages[-i][\"role\"] == \"assistant\":\n",
    "          prompt_messages[-i][\"role\"] = \"user\"\n",
    "        i += 2\n",
    "    else:\n",
    "      for prompt_message in prompt_messages:\n",
    "        if prompt_message[\"role\"] == \"assistant\":\n",
    "          prompt_message[\"role\"] = assistant_transform_type\n",
    "\n",
    "\n",
    "  # Send to OpenAI API to get a new completion\n",
    "\n",
    "  completion = client.chat.completions.create(\n",
    "        model=model,\n",
    "        messages = prompt_messages,\n",
    "        stream = stream,\n",
    "      )\n",
    "  #print(f\"Prompt messages sent to OpenAI API:{prompt_messages}\")\n",
    "  if stream:\n",
    "    for chunk in stream:\n",
    "      print(chunk.choices[0].delta.content or \"\", end=\"\")\n",
    "  else:\n",
    "    print(completion[\"choices\"][0][\"message\"][\"content\"])\n",
    "\n",
    "  # Update database and save it to the right json file\n",
    "\n",
    "  completions.append(completion.model_dump())\n",
    "  with open(f\"{folder_name}/{name}.json\", \"w\") as json_file:\n",
    "      json.dump(completions,json_file)\n",
    "\n",
    " "
   ]
  },
  {
   "cell_type": "code",
   "execution_count": 42,
   "metadata": {},
   "outputs": [
    {
     "name": "stdout",
     "output_type": "stream",
     "text": [
      "gpt-3.5-turbo memory-1 user/4.json\n",
      "20\n"
     ]
    },
    {
     "data": {
      "text/markdown": [
       "Hello! How can I assist you today?"
      ]
     },
     "metadata": {},
     "output_type": "display_data"
    },
    {
     "data": {
      "text/markdown": [
       "Hello! I don't really need any assistance at the moment, but I appreciate you asking. How are you doing today?"
      ]
     },
     "metadata": {},
     "output_type": "display_data"
    },
    {
     "data": {
      "text/markdown": [
       "I'm just a computer program, so I don't have feelings, but thank you for asking! Is there anything you'd like to talk about or ask me?"
      ]
     },
     "metadata": {},
     "output_type": "display_data"
    },
    {
     "data": {
      "text/markdown": [
       "I mostly answer questions and provide information on a wide range of topics. Feel free to ask me anything you'd like to know, and I'll do my best to help you."
      ]
     },
     "metadata": {},
     "output_type": "display_data"
    },
    {
     "data": {
      "text/markdown": [
       "Some categories I can assist with include (but are not limited to):\n",
       "- General knowledge\n",
       "- Science\n",
       "- Technology\n",
       "- History\n",
       "- Health\n",
       "- Literature\n",
       "- Geography\n",
       "- Mathematics\n",
       "- Language and linguistics\n",
       "\n",
       "Feel free to ask me anything within these categories or any other topics you may be curious about!"
      ]
     },
     "metadata": {},
     "output_type": "display_data"
    },
    {
     "data": {
      "text/markdown": [
       "I can also help with computer programming, social sciences, art and music, and popular culture topics. Just let me know what you're interested in learning more about!"
      ]
     },
     "metadata": {},
     "output_type": "display_data"
    },
    {
     "data": {
      "text/markdown": [
       "That's great to hear! Here are a few questions related to each of those topics:\n",
       "\n",
       "Computer Programming:\n",
       "1. What are some common programming languages and their uses?\n",
       "2. How can I improve my coding skills as a beginner?\n",
       "3. Can you explain the concept of Object-Oriented Programming?\n",
       "\n",
       "Social Sciences:\n",
       "1. What are some key theories in sociology and psychology?\n",
       "2. How do cultures around the world differ in terms of social norms and values?\n",
       "3. What are some current social issues that are being discussed in academia?\n",
       "\n",
       "Art and Music:\n",
       "1. Can you explain the different styles of art and their characteristics?\n",
       "2. What are some famous artists and musicians throughout history?\n",
       "3. How does music influence culture and society?\n",
       "\n",
       "Popular Culture:\n",
       "1. What are some current trends in popular culture?\n",
       "2. How has social media impacted popular culture?\n",
       "3. Can you discuss the significance of popular culture in today's society?\n",
       "\n",
       "Feel free to pick any of these questions or let me know if you have different topics in mind!"
      ]
     },
     "metadata": {},
     "output_type": "display_data"
    },
    {
     "data": {
      "text/markdown": [
       "Computer Programming:\n",
       "1. Some common programming languages include Java, Python, C++, and HTML. Java is often used for building large applications and enterprise software, Python is popular for its simplicity and flexibility, C++ is commonly used for system programming and game development, and HTML is used for creating websites.\n",
       "2. To improve your coding skills as a beginner, it's important to practice regularly, work on projects that interest you, seek feedback from others, and participate in coding challenges or competitions.\n",
       "3. Object-Oriented Programming is a programming paradigm that revolves around the concept of \"objects,\" which are instances of classes that encapsulate data and behavior. This approach allows for modularity, reusability, and easier maintenance of code.\n",
       "\n",
       "Social Sciences:\n",
       "1. Key theories in sociology include structural-functionalism, conflict theory, and symbolic interactionism. In psychology, key theories include behaviorism, psychoanalysis, and cognitive psychology.\n",
       "2. Cultures around the world differ in terms of social norms and values related to family structures, gender roles, education, religion, and more.\n",
       "3. Current social issues being discussed in academia include climate change, inequality, mental health, and social justice movements.\n",
       "\n",
       "Art and Music:\n",
       "1. Different styles of art include Renaissance, Baroque, Impressionism, Cubism, Surrealism, and Abstract Expressionism, each with distinct characteristics in terms of aesthetics and techniques.\n",
       "2. Famous artists throughout history include Leonardo da Vinci, Michelangelo, Vincent van Gogh, Pablo Picasso, and Frida Kahlo. Famous musicians include Ludwig van Beethoven, Wolfgang Amadeus Mozart, The Beatles, Michael Jackson, and Beyoncé.\n",
       "3. Music influences culture and society by reflecting and shaping societal values, emotions, and identities, and serving as a means of expression, protest, and entertainment.\n",
       "\n",
       "Popular Culture:\n",
       "1. Current trends in popular culture include streaming services, social media influencers, virtual reality, sustainability movements, and nostalgic revivals.\n",
       "2. Social media has impacted popular culture by enabling immediate sharing of trends, influencing consumer behaviors, and fostering global communities around niche interests.\n",
       "3. Popular culture is significant in today's society as it reflects trends, values, and diversity, serves as a form of entertainment and escapism, and shapes identities and social interactions."
      ]
     },
     "metadata": {},
     "output_type": "display_data"
    },
    {
     "data": {
      "text/markdown": [
       "\n",
       "4. Some popular forms of entertainment in popular culture include movies, TV shows, music, video games, celebrity gossip, fashion trends, and viral internet challenges. These forms of entertainment often have a wide reach and can influence popular culture on a global scale.\n",
       "5. Popular culture can also be a platform for social change and activism, with movements such as #MeToo, Black Lives Matter, and LGBTQ+ rights gaining visibility and support through popular culture channels such as social media, music, and television.\n",
       "6. The study of popular culture can reveal insights into societal attitudes, values, and behaviors, as well as providing a lens through which to analyze historical and contemporary trends in society. Scholars in fields such as cultural studies, media studies, and sociology often study popular culture to better understand societal dynamics."
      ]
     },
     "metadata": {},
     "output_type": "display_data"
    },
    {
     "data": {
      "text/markdown": [
       "\n",
       "7. Popular culture can also serve as a form of escapism for individuals, allowing them to temporarily escape from the stresses and realities of everyday life. Whether through a captivating TV show, a hit song, or a thrilling video game, popular culture can provide a sense of enjoyment and distraction for many people.\n",
       "8. The rise of social media has had a significant impact on popular culture, allowing for the rapid dissemination of trends, memes, and viral content. Platforms such as Instagram, Twitter, TikTok, and YouTube have played a crucial role in shaping popular culture and influencing the way people consume entertainment.\n",
       "9. Branding and marketing play a crucial role in popular culture, with many companies utilizing popular influencers and celebrities to promote their products and services. The overlap between marketing and popular culture has become increasingly prominent, with many brands integrating themselves seamlessly into the cultural zeitgeist.\n",
       "10. The globalization of popular culture has led to the spread of certain trends and phenomena across borders, creating a more interconnected and shared cultural experience. Whether it's K-pop music, Hollywood movies, or American fashion brands, popular culture has the power to transcend geographical boundaries and unite people from different parts of the world."
      ]
     },
     "metadata": {},
     "output_type": "display_data"
    },
    {
     "data": {
      "text/markdown": [
       "\n",
       "11. Popular culture can also serve as a reflection of societal values, norms, and beliefs. Through analyzing trends in music, film, television, and fashion, researchers and sociologists can gain insights into the collective mindset of a particular society during a specific time period.\n",
       "12. Subcultures within popular culture, such as fandoms, gaming communities, and niche music genres, allow individuals to connect with like-minded people and form strong social bonds. These subcultures often provide a sense of belonging and identity for individuals who may feel marginalized or misunderstood by mainstream society.\n",
       "13. The power dynamics within popular culture, such as the influence of celebrities, influencers, and media conglomerates, can impact the way certain groups of people are represented and portrayed. Issues of diversity, representation, and cultural appropriation are important considerations within the realm of popular culture.\n",
       "14. Popular culture has the ability to challenge and subvert dominant narratives and stereotypes, with movements such as #MeToo and Black Lives Matter gaining visibility and momentum through social media and entertainment platforms. Artistic expression within popular culture can be a powerful tool for social change and awareness.\n",
       "15. As technology continues to evolve, the future of popular culture is likely to be shaped by virtual reality, artificial intelligence, and other cutting-edge innovations. The way people interact with and consume entertainment is constantly evolving, leading to new forms of cultural expression and creativity."
      ]
     },
     "metadata": {},
     "output_type": "display_data"
    },
    {
     "data": {
      "text/markdown": [
       "\n",
       "16. The globalization of popular culture through the internet and social media has led to the sharing of ideas, trends, and influences on a global scale. This interconnectedness has allowed for the exchange of cultural practices and traditions, creating a more diverse and inclusive cultural landscape.\n",
       "17. Popular culture can also act as a form of escapism for individuals, providing entertainment and distraction from the stresses and challenges of everyday life. Whether through music, movies, or video games, popular culture can serve as a form of entertainment that allows people to relax and unwind.\n",
       "18. The rise of influencer culture within popular culture has transformed the way individuals consume content and make purchasing decisions. Influencers have the power to shape trends and influence consumer behavior, blurring the lines between advertising and entertainment.\n",
       "19. The phenomenon of viral content within popular culture has the ability to reach millions of people in a short amount of time through social media platforms. Memes, challenges, and trends can spread rapidly, influencing and shaping the cultural conversation in real-time.\n",
       "20. The intersection of popular culture and politics is increasingly evident, with celebrities using their platforms to advocate for social and political causes. The influence of popular culture on public opinion and activism has the potential to drive meaningful change and spark important conversations within society."
      ]
     },
     "metadata": {},
     "output_type": "display_data"
    },
    {
     "data": {
      "text/markdown": [
       "21. The democratization of popular culture through platforms like YouTube, TikTok, and Instagram has allowed individuals from diverse backgrounds to create and share their own content, challenging traditional media gatekeepers and amplifying voices that may have otherwise been marginalized.\n",
       "22. Popular culture can also serve as a reflection of societal values and beliefs, providing a lens through which to examine and critique social issues such as race, gender, and class. Through music, film, and television, popular culture has the power to shape perceptions and bring attention to important social issues.\n",
       "23. The influence of popular culture on fashion trends and beauty standards is undeniable, with celebrities and influencers often setting the agenda for what is considered stylish or desirable. This can have both positive and negative effects, as it can promote diversity and self-expression but also create unrealistic expectations and pressures.\n",
       "24. Popular culture can play a significant role in shaping individual identity and fostering a sense of community and belonging. Shared interests in certain music, movies, or TV shows can create connections between people and serve as a form of cultural currency that allows for bonding and social interaction.\n",
       "25. In an increasingly digital world, the convergence of popular culture with technology has revolutionized the way we consume and engage with content. From streaming services to virtual reality experiences, technology has transformed the entertainment industry and expanded the possibilities for immersive storytelling and interactive engagement."
      ]
     },
     "metadata": {},
     "output_type": "display_data"
    },
    {
     "data": {
      "text/markdown": [
       "\n",
       "26. The globalization of popular culture has led to the spread of ideas, trends, and values across borders, creating a more interconnected and diverse world. Through the internet and social media, cultural products and practices from different parts of the world can easily be shared and appreciated by a global audience.\n",
       "27. The commercialization of popular culture has resulted in the rise of \"fandom\" culture, where dedicated fans of a particular movie, TV show, or celebrity come together to celebrate and engage with their shared passion. Fandom communities can be a source of creativity, support, and camaraderie for individuals who find connection and belonging through their shared interests.\n",
       "28. Popular culture can also serve as a form of escapism and entertainment, providing a temporary reprieve from the stresses and challenges of everyday life. Whether through music, art, or literature, popular culture can transport audiences to different worlds and inspire imagination and creativity.\n",
       "29. The evolution of popular culture is constantly influenced by technological advancements, social movements, and shifting cultural norms. As society evolves, so too does popular culture, reflecting the changing attitudes, values, and concerns of contemporary society.\n",
       "30. Ultimately, popular culture is a powerful force that shapes our world, influencing the way we think, feel, and interact with one another. By studying and engaging with popular culture, we can gain insights into the collective consciousness of society and better understand the complex interplay between culture, media, and identity."
      ]
     },
     "metadata": {},
     "output_type": "display_data"
    },
    {
     "data": {
      "text/markdown": [
       "\n",
       "31. Popular culture can also be a form of resistance and activism, with artists and creators using their platforms to challenge dominant narratives and bring attention to social and political issues. Through music, film, and other forms of media, popular culture can spark conversations and inspire change.\n",
       "32. Popular culture has the ability to break down barriers and foster a sense of unity and solidarity among diverse groups of people. Through shared cultural experiences and references, individuals can find common ground and build connections that transcend geographic and societal boundaries.\n",
       "33. The democratization of popular culture through platforms like YouTube, TikTok, and streaming services has given a voice to individuals who may not have had access to traditional forms of media. This has allowed for a more diverse range of perspectives and stories to be shared and celebrated.\n",
       "34. Popular culture can also play a role in shaping our personal identities and sense of self. The media we consume and the cultural products we engage with can influence our beliefs, values, and perceptions of the world around us, impacting how we see ourselves and our place in society.\n",
       "35. In a rapidly changing world, popular culture serves as a reflection of our collective experiences and emotions, capturing the zeitgeist of a particular moment in time. By examining the trends and themes prevalent in popular culture, we can gain a deeper understanding of the societal dynamics at play and how they shape our individual and collective identities."
      ]
     },
     "metadata": {},
     "output_type": "display_data"
    },
    {
     "data": {
      "text/markdown": [
       "\n",
       "36. Popular culture often serves as a form of escapism and entertainment, providing individuals with a temporary refuge from the challenges and stress of everyday life. Whether through movies, TV shows, music, or other forms of media, popular culture offers moments of joy and relief that allow us to recharge and reset.\n",
       "37. Popular culture has the power to challenge societal norms and stereotypes, promoting diversity and inclusivity in mainstream media. By representing underrepresented groups and highlighting their stories, popular culture can promote empathy, understanding, and acceptance among audiences.\n",
       "38. Popular culture can act as a catalyst for social change by raising awareness of important issues and inspiring individuals to take action. Through powerful storytelling and compelling narratives, popular culture can mobilize communities and drive positive change in the world.\n",
       "39. The globalization of popular culture has created opportunities for cross-cultural exchange and understanding, as individuals from different parts of the world can connect over shared interests and experiences. Through the dissemination of popular cultural products, people can learn about and appreciate diverse cultures and perspectives.\n",
       "40. Ultimately, popular culture is a dynamic and ever-evolving force that shapes our society and influences our individual and collective identities. By engaging with popular culture critically and reflectively, we can harness its power to create positive change and foster a more inclusive and empathetic world."
      ]
     },
     "metadata": {},
     "output_type": "display_data"
    },
    {
     "data": {
      "text/markdown": [
       "\n",
       "41. Popular culture can also play a role in shaping our personal preferences, values, and beliefs. The media we consume and the celebrities we admire can influence our attitudes towards various issues, shaping our cultural and social identity.\n",
       "42. In addition, popular culture can serve as a platform for self-expression and creativity, allowing individuals to explore their own identities and share their unique perspectives with the world. Whether through art, fashion, or social media, popular culture provides a space for individuals to express themselves and connect with like-minded individuals.\n",
       "43. Popular culture can also have a significant impact on the economy, as industries such as film, music, fashion, and technology generate billions of dollars in revenue each year. The popularity of certain trends and products in popular culture can drive consumer behavior and influence market trends.\n",
       "44. However, popular culture is not without its criticisms, as some argue that it can perpetuate harmful stereotypes, promote consumerism, and prioritize profit over social responsibility. It is important for consumers to be critical of the messages and values promoted in popular culture and to advocate for more diverse and inclusive representations.\n",
       "45. Overall, popular culture is a complex and multifaceted phenomenon that reflects and influences our society in a variety of ways. By engaging with popular culture thoughtfully and consciously, we can harness its potential to inspire, educate, and empower individuals to create positive change in the world."
      ]
     },
     "metadata": {},
     "output_type": "display_data"
    },
    {
     "data": {
      "text/markdown": [
       "\n",
       "46. It is essential for individuals to recognize the power that popular culture holds and to be mindful of the messages it conveys. By consuming media and engaging with popular culture in a critical and discerning manner, we can challenge harmful narratives, support positive representations, and contribute to a more inclusive and equitable society.\n",
       "47. Furthermore, popular culture has the ability to bring people together, fostering a sense of community and shared experience. Whether through attending concerts, participating in fan communities, or discussing the latest trends on social media, popular culture has the capacity to create connections and build relationships among individuals from diverse backgrounds.\n",
       "48. As technology continues to evolve and new forms of media emerge, the landscape of popular culture is constantly shifting and expanding. It is important for individuals to stay informed about current trends and developments in order to fully engage with and understand the complexities of popular culture in today's society.\n",
       "49. Ultimately, popular culture plays a crucial role in shaping our perceptions, attitudes, and behaviors. By actively participating in and contributing to popular culture in a thoughtful and intentional manner, we can harness its potential to inspire positive change and foster a more inclusive and accepting world for all."
      ]
     },
     "metadata": {},
     "output_type": "display_data"
    },
    {
     "data": {
      "text/markdown": [
       "50. In conclusion, popular culture is a powerful force that influences our daily lives in numerous ways. By being thoughtful and critical consumers of media, actively participating in cultural discussions, and promoting positive representations, we can harness the potential of popular culture to create a more diverse, inclusive, and equitable society for all. Let us embrace the opportunities that popular culture presents to us and work towards a future where everyone's voices and experiences are valued and celebrated."
      ]
     },
     "metadata": {},
     "output_type": "display_data"
    },
    {
     "data": {
      "text/markdown": [
       "Together, we can shape popular culture into a force for good, breaking down barriers and challenging stereotypes. Let us use the power of popular culture to inspire change, promote understanding, and create a more just and compassionate world. By working together, we can make a difference and bring about a more inclusive and equitable society for all. Let us continue to engage with and critique popular culture, using it as a tool for positive social change. The possibilities are endless, and the potential for impact is vast. Let us seize this opportunity and make a difference in the world through the power of popular culture."
      ]
     },
     "metadata": {},
     "output_type": "display_data"
    }
   ],
   "source": [
    "## Display data\n",
    "\n",
    "# Load the JSON file\n",
    "\n",
    "file_path = f\"{folder_name}/{name}.json\"\n",
    "\n",
    "#file_path = f\"gpt-3.5-turbo memory-1 user/2.json\"\n",
    "\n",
    "with open(file_path, 'r') as file:\n",
    "    data = json.load(file)\n",
    "\n",
    "# Normalize the JSON data in completions\n",
    "\n",
    "normalized_data = pd.json_normalize(data, record_path='choices', meta=[\n",
    "    'id', 'created', 'model', 'object', 'service_tier', 'system_fingerprint', \n",
    "    ['usage', 'completion_tokens'], ['usage', 'prompt_tokens'], ['usage', 'total_tokens']], sep='.',\n",
    "    meta_prefix='', record_prefix='choices.')\n",
    "\n",
    "# Make more important columns more visible\n",
    "\n",
    "normalized_data = normalized_data[['choices.message.content', 'model', \n",
    "       'usage.completion_tokens', 'usage.prompt_tokens', 'usage.total_tokens', 'id', \n",
    "       'choices.finish_reason', 'choices.index', 'choices.logprobs', \n",
    "       'choices.message.role', 'choices.message.function_call', 'choices.message.tool_calls', \n",
    "       'created', 'object', 'service_tier', 'system_fingerprint'\n",
    "       ]]\n",
    "\n",
    "# Display\n",
    "\n",
    "content_all = normalized_data[\"choices.message.content\"]\n",
    "last = content_all.iloc[-1]\n",
    "\n",
    "print(file_path)\n",
    "print(len(content_all))\n",
    "\n",
    "for content in content_all:\n",
    "   display_markdown(content, raw=True)"
   ]
  },
  {
   "cell_type": "code",
   "execution_count": 44,
   "metadata": {},
   "outputs": [
    {
     "data": {
      "text/plain": [
       "{'id': 'chatcmpl-9rSyNew3bRbcf5FoSt88NJ9iu4ljW',\n",
       " 'choices': [{'finish_reason': 'stop',\n",
       "   'index': 0,\n",
       "   'logprobs': None,\n",
       "   'message': {'content': 'Some categories I can assist with include (but are not limited to):\\n- General knowledge\\n- Science\\n- Technology\\n- History\\n- Health\\n- Literature\\n- Geography\\n- Mathematics\\n- Language and linguistics\\n\\nFeel free to ask me anything within these categories or any other topics you may be curious about!',\n",
       "    'role': 'assistant',\n",
       "    'function_call': None,\n",
       "    'tool_calls': None}}],\n",
       " 'created': 1722529783,\n",
       " 'model': 'gpt-3.5-turbo-0125',\n",
       " 'object': 'chat.completion',\n",
       " 'service_tier': None,\n",
       " 'system_fingerprint': None,\n",
       " 'usage': {'completion_tokens': 64, 'prompt_tokens': 43, 'total_tokens': 107}}"
      ]
     },
     "execution_count": 44,
     "metadata": {},
     "output_type": "execute_result"
    }
   ],
   "source": [
    "completions[4]"
   ]
  },
  {
   "cell_type": "code",
   "execution_count": null,
   "metadata": {},
   "outputs": [],
   "source": []
  }
 ],
 "metadata": {
  "kernelspec": {
   "display_name": "Python 3 (ipykernel)",
   "language": "python",
   "name": "python3"
  },
  "language_info": {
   "codemirror_mode": {
    "name": "ipython",
    "version": 3
   },
   "file_extension": ".py",
   "mimetype": "text/x-python",
   "name": "python",
   "nbconvert_exporter": "python",
   "pygments_lexer": "ipython3",
   "version": "3.12.4"
  }
 },
 "nbformat": 4,
 "nbformat_minor": 2
}
