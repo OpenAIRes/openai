{
 "cells": [
  {
   "cell_type": "code",
   "execution_count": 19,
   "metadata": {},
   "outputs": [
    {
     "name": "stdout",
     "output_type": "stream",
     "text": [
      "Prompt messages sent to OpenAI API:[{'role': 'user', 'content': '\\n\\nOverall, by prioritizing budgeting, saving, investing, and seeking professional guidance when needed, you can build a strong financial foundation and work towards achieving financial security and stability for yourself and your family. It may take time and effort, but the benefits of financial planning will undoubtedly pay off in the long run. Good luck on your financial journey!'}]\n",
      "Prompt messages sent to OpenAI API:[{'role': 'user', 'content': \"\\n\\nRemember, financial planning is a journey, not a destination. It's important to regularly review and adjust your financial plan as your circumstances change. Stay disciplined, stay focused, and stay proactive in managing your finances. With dedication and smart decision-making, you can pave the way to a secure and prosperous financial future. Good luck!\"}]\n",
      "Prompt messages sent to OpenAI API:[{'role': 'user', 'content': \"\\n\\nRemember to stay committed to your financial goals and make adjustments as needed. Keep track of your progress and continue to educate yourself on financial matters. Building wealth and achieving financial stability takes time and effort, but with diligence and persistence, you can reach your goals. Stay positive, stay consistent, and stay focused on your financial journey – you've got this!\"}]\n",
      "Prompt messages sent to OpenAI API:[{'role': 'user', 'content': \"And remember, it's important to also enjoy the journey and celebrate small victories along the way. Setting realistic and achievable goals will help you stay motivated and on track. Don't be afraid to seek advice from financial experts or mentors if you need help navigating your financial journey. Stay disciplined, stay focused, and stay determined – you have the power to create the financial future you desire. Keep pushing forward and never give up on your dreams of financial success. You can do it!\"}]\n"
     ]
    }
   ],
   "source": [
    "from openai import OpenAI\n",
    "import json\n",
    "import pandas as pd\n",
    "from IPython.display import display_markdown\n",
    "\n",
    "client = OpenAI()\n",
    "\n",
    "\n",
    "name = \"2\"\n",
    "model = \"gpt-3.5-turbo\"               # important options: \"gpt-4o-mini\", \"gpt-4o\", \"gpt-3.5-turbo\"\n",
    "n = 4\n",
    "memory = 1\n",
    "stable_system_message = False\n",
    "assistant_transform = True    \n",
    "assistant_transform_type = \"user\"     # options: \"user\", \"user-assistant\", \"system\"\n",
    "\n",
    "first_prompt = [\n",
    "  #{\"role\": \"system\", \"content\": \"\"},\n",
    "  {\"role\": \"user\", \"content\": \"\"}\n",
    "]\n",
    "\n",
    "folder_name = f\"{model} memory-{memory} {assistant_transform_type}\"\n",
    "\n",
    "for iteration in range(n):\n",
    "  # Load completions from json, if continuing with a file generated in the past\n",
    "\n",
    "  try:\n",
    "    with open(f\"{folder_name}/{name}.json\", \"r\") as json_file:\n",
    "      completions=json.load(json_file)\n",
    "\n",
    "  # If not, create a new completions database\n",
    "\n",
    "  except FileNotFoundError:\n",
    "    completions = []\n",
    "\n",
    "  # Collect messages generated so far\n",
    "\n",
    "  messages = first_prompt\n",
    "  for completion in completions:\n",
    "      message = completion[\"choices\"][0][\"message\"]\n",
    "      messages.append({\"role\": message[\"role\"], \"content\": message[\"content\"]}   \n",
    "      )\n",
    "\n",
    "  # Pick prompt messages\n",
    "\n",
    "  if memory >= len(messages):\n",
    "      prompt_messages = messages\n",
    "  else:\n",
    "      #print(f\"Memory smaller than the entire conversation. Forgetting {len(messages)-memory} messages\")\n",
    "      prompt_messages = []\n",
    "      if stable_system_message:\n",
    "        prompt_messages.append(first_prompt[0])\n",
    "        print(prompt_messages)\n",
    "        print(\"stable_system_message\")\n",
    "      prompt_messages = prompt_messages+messages[(len(messages)-memory):]\n",
    "\n",
    "  # Transform assistant role to assistant and user, user, or system roles\n",
    "\n",
    "  if assistant_transform:\n",
    "    if assistant_transform_type == \"user-assistant\":\n",
    "      i = 1\n",
    "      while i <= len(prompt_messages):\n",
    "        if prompt_messages[-i][\"role\"] == \"assistant\":\n",
    "          prompt_messages[-i][\"role\"] = \"user\"\n",
    "        i += 2\n",
    "    else:\n",
    "      for prompt_message in prompt_messages:\n",
    "        if prompt_message[\"role\"] == \"assistant\":\n",
    "          prompt_message[\"role\"] = assistant_transform_type\n",
    "\n",
    "\n",
    "  # Send to OpenAI API to get a new completion\n",
    "\n",
    "  completion = client.chat.completions.create(\n",
    "        model=model,\n",
    "        messages = prompt_messages\n",
    "      )\n",
    "  print(f\"Prompt messages sent to OpenAI API:{prompt_messages}\")\n",
    "\n",
    "  # Update database and save it to the right json file\n",
    "\n",
    "  completions.append(completion.model_dump())\n",
    "  with open(f\"{folder_name}/{name}.json\", \"w\") as json_file:\n",
    "      json.dump(completions,json_file)\n",
    "\n",
    " "
   ]
  },
  {
   "cell_type": "code",
   "execution_count": 20,
   "metadata": {},
   "outputs": [
    {
     "name": "stdout",
     "output_type": "stream",
     "text": [
      "10\n"
     ]
    },
    {
     "data": {
      "text/markdown": [
       "Hello! How can I assist you today?"
      ]
     },
     "metadata": {},
     "output_type": "display_data"
    },
    {
     "data": {
      "text/markdown": [
       "Hello! I'm here to assist you with any questions or tasks you may have. How can I help you today?"
      ]
     },
     "metadata": {},
     "output_type": "display_data"
    },
    {
     "data": {
      "text/markdown": [
       "Hello! I have a question about financial planning. Can you provide some guidance on how to create a budget and save for the future?"
      ]
     },
     "metadata": {},
     "output_type": "display_data"
    },
    {
     "data": {
      "text/markdown": [
       "Of course! Creating a budget and saving for the future are two crucial steps in financial planning. Here are some tips to help you get started:\n",
       "\n",
       "1. Track your expenses: Start by tracking all of your expenses for one month. This will give you a clear picture of where your money is going and help you identify areas where you can cut back.\n",
       "\n",
       "2. Create a budget: Based on your expenses, create a budget that outlines how much money you will allocate towards various categories such as rent, groceries, utilities, entertainment, and savings.\n",
       "\n",
       "3. Set financial goals: Determine what you are saving for - whether it's an emergency fund, a vacation, a down payment on a house, or retirement. Setting specific financial goals will help you stay motivated and focused on saving.\n",
       "\n",
       "4. Automate your savings: Setting up automatic transfers from your checking account to a savings account can help you save consistently without having to think about it.\n",
       "\n",
       "5. Cut back on expenses: Look for ways to reduce your spending, such as cutting back on dining out, canceling unnecessary subscriptions, or finding cheaper alternatives for everyday expenses.\n",
       "\n",
       "6. Prioritize debt repayment: If you have high-interest debt, such as credit card debt, prioritize paying it off to avoid accruing more interest.\n",
       "\n",
       "7. Review and adjust your budget regularly: Periodically review your budget to track your progress towards your financial goals and make necessary adjustments to ensure you stay on track.\n",
       "\n",
       "By following these steps and staying disciplined with your budget, you'll be well on your way to saving for the future and achieving financial stability. Let me know if you have any other questions or need further guidance."
      ]
     },
     "metadata": {},
     "output_type": "display_data"
    },
    {
     "data": {
      "text/markdown": [
       "\n",
       "\n",
       "Additionally, consider setting up an emergency fund to cover unexpected expenses like medical bills or car repairs. Aim to save three to six months' worth of living expenses in this fund to act as a safety net.\n",
       "\n",
       "It's also important to consider investing for the future. Look into options like employer-sponsored retirement plans, individual retirement accounts (IRAs), and other investment vehicles to grow your wealth over time.\n",
       "\n",
       "Lastly, don't be afraid to seek advice from a financial advisor or planner to help you create a comprehensive financial plan tailored to your specific goals and circumstances.\n",
       "\n",
       "Remember, financial planning is a journey, and it's important to stay committed and make adjustments as needed to achieve your long-term financial goals. Good luck!"
      ]
     },
     "metadata": {},
     "output_type": "display_data"
    },
    {
     "data": {
      "text/markdown": [
       "\n",
       "\n",
       "Overall, by prioritizing budgeting, saving, investing, and seeking professional guidance when needed, you can build a strong financial foundation and work towards achieving financial security and stability for yourself and your family. It may take time and effort, but the benefits of financial planning will undoubtedly pay off in the long run. Good luck on your financial journey!"
      ]
     },
     "metadata": {},
     "output_type": "display_data"
    },
    {
     "data": {
      "text/markdown": [
       "\n",
       "\n",
       "Remember, financial planning is a journey, not a destination. It's important to regularly review and adjust your financial plan as your circumstances change. Stay disciplined, stay focused, and stay proactive in managing your finances. With dedication and smart decision-making, you can pave the way to a secure and prosperous financial future. Good luck!"
      ]
     },
     "metadata": {},
     "output_type": "display_data"
    },
    {
     "data": {
      "text/markdown": [
       "\n",
       "\n",
       "Remember to stay committed to your financial goals and make adjustments as needed. Keep track of your progress and continue to educate yourself on financial matters. Building wealth and achieving financial stability takes time and effort, but with diligence and persistence, you can reach your goals. Stay positive, stay consistent, and stay focused on your financial journey – you've got this!"
      ]
     },
     "metadata": {},
     "output_type": "display_data"
    },
    {
     "data": {
      "text/markdown": [
       "And remember, it's important to also enjoy the journey and celebrate small victories along the way. Setting realistic and achievable goals will help you stay motivated and on track. Don't be afraid to seek advice from financial experts or mentors if you need help navigating your financial journey. Stay disciplined, stay focused, and stay determined – you have the power to create the financial future you desire. Keep pushing forward and never give up on your dreams of financial success. You can do it!"
      ]
     },
     "metadata": {},
     "output_type": "display_data"
    },
    {
     "data": {
      "text/markdown": [
       "Remember, Rome wasn't built in a day, and neither will your financial empire. It's okay to make mistakes, just learn from them and keep moving forward. Stay committed to your goals, stay persistent in your efforts, and stay optimistic about your future. With dedication and perseverance, you will eventually reach your financial goals and secure the financial future you desire. Keep the faith, stay positive, and keep pushing forward – you've got this!"
      ]
     },
     "metadata": {},
     "output_type": "display_data"
    }
   ],
   "source": [
    "## Display data\n",
    "\n",
    "# Load the JSON file\n",
    "\n",
    "name = \"gpt-3.5-turbo memory-1 user/2\"\n",
    "\n",
    "file_path = f\"{name}.json\"\n",
    "with open(file_path, 'r') as file:\n",
    "    data = json.load(file)\n",
    "\n",
    "# Normalize the JSON data in completions\n",
    "\n",
    "normalized_data = pd.json_normalize(data, record_path='choices', meta=[\n",
    "    'id', 'created', 'model', 'object', 'service_tier', 'system_fingerprint', \n",
    "    ['usage', 'completion_tokens'], ['usage', 'prompt_tokens'], ['usage', 'total_tokens']], sep='.',\n",
    "    meta_prefix='', record_prefix='choices.')\n",
    "\n",
    "# Make more important columns more visible\n",
    "\n",
    "normalized_data = normalized_data[['choices.message.content', 'model', \n",
    "       'usage.completion_tokens', 'usage.prompt_tokens', 'usage.total_tokens', 'id', \n",
    "       'choices.finish_reason', 'choices.index', 'choices.logprobs', \n",
    "       'choices.message.role', 'choices.message.function_call', 'choices.message.tool_calls', \n",
    "       'created', 'object', 'service_tier', 'system_fingerprint'\n",
    "       ]]\n",
    "\n",
    "# Display\n",
    "\n",
    "content_all = normalized_data[\"choices.message.content\"]\n",
    "last = content_all.iloc[-1]\n",
    "\n",
    "print(len(content_all))\n",
    "\n",
    "for content in content_all:\n",
    "   display_markdown(content, raw=True)"
   ]
  },
  {
   "cell_type": "code",
   "execution_count": null,
   "metadata": {},
   "outputs": [],
   "source": []
  }
 ],
 "metadata": {
  "kernelspec": {
   "display_name": "Python 3 (ipykernel)",
   "language": "python",
   "name": "python3"
  },
  "language_info": {
   "codemirror_mode": {
    "name": "ipython",
    "version": 3
   },
   "file_extension": ".py",
   "mimetype": "text/x-python",
   "name": "python",
   "nbconvert_exporter": "python",
   "pygments_lexer": "ipython3",
   "version": "3.12.4"
  }
 },
 "nbformat": 4,
 "nbformat_minor": 2
}
